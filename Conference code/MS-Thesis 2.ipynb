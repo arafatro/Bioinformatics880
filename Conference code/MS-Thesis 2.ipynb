{
 "cells": [
  {
   "cell_type": "markdown",
   "metadata": {},
   "source": [
    "# 1. Dataset Preprocessing"
   ]
  },
  {
   "cell_type": "markdown",
   "metadata": {},
   "source": [
    "### Importing necessary libraries"
   ]
  },
  {
   "cell_type": "code",
   "execution_count": 376,
   "metadata": {},
   "outputs": [],
   "source": [
    "import numpy as np\n",
    "import pandas as pd \n",
    "import matplotlib.pyplot as plt\n",
    "import math\n",
    "\n",
    "\n",
    "\n",
    "from numpy import array\n",
    "from numpy import argmax\n",
    "from numpy import mean\n",
    "from numpy import std\n",
    "\n",
    "\n",
    "import os\n",
    "import os.path\n",
    "import pickle\n",
    "\n",
    "\n",
    "import sklearn \n",
    "\n",
    "from sklearn.model_selection import train_test_split\n",
    "\n",
    "from sklearn.feature_selection import SelectKBest, chi2\n",
    "\n",
    "\n",
    "from sklearn.metrics import classification_report\n",
    "from sklearn.metrics import confusion_matrix\n",
    "\n",
    "from sklearn.ensemble import RandomForestClassifier\n",
    "\n",
    "\n",
    "from sklearn.utils import class_weight\n",
    "\n",
    "\n",
    "from sklearn.svm import SVC\n",
    "from xgboost import XGBClassifier\n",
    "from lightgbm import LGBMClassifier\n",
    "from sklearn.ensemble import ExtraTreesClassifier \n",
    "\n",
    "from sklearn.metrics import accuracy_score\n",
    "from sklearn.metrics import matthews_corrcoef\n",
    "from sklearn.model_selection import cross_val_score\n",
    "from sklearn.model_selection import cross_val_predict\n",
    "\n",
    "from sklearn.preprocessing import MinMaxScaler\n",
    "\n",
    "\n",
    "from imblearn.over_sampling import SMOTE\n",
    "from imblearn.over_sampling import SVMSMOTE\n",
    "from imblearn.over_sampling import RandomOverSampler\n",
    "from imblearn.under_sampling import RandomUnderSampler\n",
    "from imblearn.under_sampling import ClusterCentroids\n",
    "\n",
    "from sklearn.model_selection import KFold\n",
    "from sklearn.model_selection import StratifiedKFold\n",
    "\n",
    "from sklearn.metrics import roc_curve\n",
    "from sklearn.metrics import roc_auc_score\n",
    "from matplotlib import pyplot\n",
    "\n",
    "from scipy import stats"
   ]
  },
  {
   "cell_type": "markdown",
   "metadata": {},
   "source": [
    "### Parameters"
   ]
  },
  {
   "cell_type": "code",
   "execution_count": 164,
   "metadata": {},
   "outputs": [],
   "source": [
    "window_size = 23\n",
    "resposible_residue = 'K'\n",
    "directory = '/Users/smshovan/Google Drive/Colab Notebooks/New Research/Master\\'s Thesis 2/'"
   ]
  },
  {
   "cell_type": "markdown",
   "metadata": {},
   "source": [
    "### Reading data "
   ]
  },
  {
   "cell_type": "code",
   "execution_count": 165,
   "metadata": {},
   "outputs": [
    {
     "data": {
      "text/html": [
       "<div>\n",
       "<style scoped>\n",
       "    .dataframe tbody tr th:only-of-type {\n",
       "        vertical-align: middle;\n",
       "    }\n",
       "\n",
       "    .dataframe tbody tr th {\n",
       "        vertical-align: top;\n",
       "    }\n",
       "\n",
       "    .dataframe thead th {\n",
       "        text-align: right;\n",
       "    }\n",
       "</style>\n",
       "<table border=\"1\" class=\"dataframe\">\n",
       "  <thead>\n",
       "    <tr style=\"text-align: right;\">\n",
       "      <th></th>\n",
       "      <th>PLMD ID</th>\n",
       "      <th>Uniprot Accession</th>\n",
       "      <th>Position</th>\n",
       "      <th>Type</th>\n",
       "      <th>Sequence</th>\n",
       "      <th>Species</th>\n",
       "      <th>PMIDs</th>\n",
       "    </tr>\n",
       "  </thead>\n",
       "  <tbody>\n",
       "    <tr>\n",
       "      <th>0</th>\n",
       "      <td>PLMD-2747</td>\n",
       "      <td>P00448</td>\n",
       "      <td>114</td>\n",
       "      <td>Formylation</td>\n",
       "      <td>MSYTLPSLPYAYDALEPHFDKQTMEIHHTKHHQTYVNNANAALESL...</td>\n",
       "      <td>Escherichia coli (strain K12)</td>\n",
       "      <td>26840995</td>\n",
       "    </tr>\n",
       "    <tr>\n",
       "      <th>1</th>\n",
       "      <td>PLMD-2747</td>\n",
       "      <td>P00448</td>\n",
       "      <td>91</td>\n",
       "      <td>Formylation</td>\n",
       "      <td>MSYTLPSLPYAYDALEPHFDKQTMEIHHTKHHQTYVNNANAALESL...</td>\n",
       "      <td>Escherichia coli (strain K12)</td>\n",
       "      <td>26840995</td>\n",
       "    </tr>\n",
       "    <tr>\n",
       "      <th>2</th>\n",
       "      <td>PLMD-2979</td>\n",
       "      <td>P02359</td>\n",
       "      <td>171</td>\n",
       "      <td>Formylation</td>\n",
       "      <td>MPRRRVIGQRKILPDPKFGSELLAKFVNILMVDGKKSTAESIVYSA...</td>\n",
       "      <td>Escherichia coli (strain K12)</td>\n",
       "      <td>26840995</td>\n",
       "    </tr>\n",
       "    <tr>\n",
       "      <th>3</th>\n",
       "      <td>PLMD-2987</td>\n",
       "      <td>P02413</td>\n",
       "      <td>13</td>\n",
       "      <td>Formylation</td>\n",
       "      <td>MRLNTLSPAEGSKKAGKRLGRGIGSGLGKTGGRGHKGQKSRSGGGV...</td>\n",
       "      <td>Escherichia coli (strain K12)</td>\n",
       "      <td>26840995</td>\n",
       "    </tr>\n",
       "    <tr>\n",
       "      <th>4</th>\n",
       "      <td>PLMD-2987</td>\n",
       "      <td>P02413</td>\n",
       "      <td>29</td>\n",
       "      <td>Formylation</td>\n",
       "      <td>MRLNTLSPAEGSKKAGKRLGRGIGSGLGKTGGRGHKGQKSRSGGGV...</td>\n",
       "      <td>Escherichia coli (strain K12)</td>\n",
       "      <td>26840995</td>\n",
       "    </tr>\n",
       "  </tbody>\n",
       "</table>\n",
       "</div>"
      ],
      "text/plain": [
       "     PLMD ID Uniprot Accession  Position         Type  \\\n",
       "0  PLMD-2747            P00448       114  Formylation   \n",
       "1  PLMD-2747            P00448        91  Formylation   \n",
       "2  PLMD-2979            P02359       171  Formylation   \n",
       "3  PLMD-2987            P02413        13  Formylation   \n",
       "4  PLMD-2987            P02413        29  Formylation   \n",
       "\n",
       "                                            Sequence  \\\n",
       "0  MSYTLPSLPYAYDALEPHFDKQTMEIHHTKHHQTYVNNANAALESL...   \n",
       "1  MSYTLPSLPYAYDALEPHFDKQTMEIHHTKHHQTYVNNANAALESL...   \n",
       "2  MPRRRVIGQRKILPDPKFGSELLAKFVNILMVDGKKSTAESIVYSA...   \n",
       "3  MRLNTLSPAEGSKKAGKRLGRGIGSGLGKTGGRGHKGQKSRSGGGV...   \n",
       "4  MRLNTLSPAEGSKKAGKRLGRGIGSGLGKTGGRGHKGQKSRSGGGV...   \n",
       "\n",
       "                         Species     PMIDs  \n",
       "0  Escherichia coli (strain K12)  26840995  \n",
       "1  Escherichia coli (strain K12)  26840995  \n",
       "2  Escherichia coli (strain K12)  26840995  \n",
       "3  Escherichia coli (strain K12)  26840995  \n",
       "4  Escherichia coli (strain K12)  26840995  "
      ]
     },
     "execution_count": 165,
     "metadata": {},
     "output_type": "execute_result"
    }
   ],
   "source": [
    "full_data = pd.read_table(directory+'Formylation.elm')\n",
    "full_data.head()"
   ]
  },
  {
   "cell_type": "code",
   "execution_count": 166,
   "metadata": {},
   "outputs": [
    {
     "name": "stdout",
     "output_type": "stream",
     "text": [
      "<class 'pandas.core.frame.DataFrame'>\n",
      "RangeIndex: 188 entries, 0 to 187\n",
      "Data columns (total 7 columns):\n",
      " #   Column             Non-Null Count  Dtype \n",
      "---  ------             --------------  ----- \n",
      " 0   PLMD ID            188 non-null    object\n",
      " 1   Uniprot Accession  188 non-null    object\n",
      " 2   Position           188 non-null    int64 \n",
      " 3   Type               188 non-null    object\n",
      " 4   Sequence           188 non-null    object\n",
      " 5   Species            188 non-null    object\n",
      " 6   PMIDs              188 non-null    int64 \n",
      "dtypes: int64(2), object(5)\n",
      "memory usage: 10.4+ KB\n"
     ]
    }
   ],
   "source": [
    "full_data.info()"
   ]
  },
  {
   "cell_type": "markdown",
   "metadata": {},
   "source": [
    "### Convert to fasta file for removing homologous sequences"
   ]
  },
  {
   "cell_type": "code",
   "execution_count": 167,
   "metadata": {},
   "outputs": [],
   "source": [
    "f= open(\"sequence_tb.fasta\",\"w+\")\n",
    "for index in range(full_data.shape[0]):\n",
    "  f.write(\">\" + full_data['PLMD ID'][index]+ \"\\n\"+ full_data['Sequence'][index]+\"\\n\")\n",
    "f.close()"
   ]
  },
  {
   "cell_type": "markdown",
   "metadata": {},
   "source": [
    "### Reduce homologous sequence using CD-HIT\n",
    "db is the filename of input, \n",
    "db90 is output, \n",
    "* -c 1.0, means 100% identity, is the clustering threshold\n",
    "* -c 0.9, means 90% identity, is the clustering threshold\n",
    "* -n 5 is the word size\n",
    "* -d 0 use sequence name in fasta header till the first white space\n",
    "* -M 16000, to use 16GB RAM\n",
    "* -T 8, to use 8 threads\n",
    "\n",
    "Choose of word size:\n",
    "\n",
    "* -n 5 for thresholds 0.7 ~ 1.0\n",
    "* -n 4 for thresholds 0.6 ~ 0.7\n",
    "* -n 3 for thresholds 0.5 ~ 0.6\n",
    "* -n 2 for thresholds 0.4 ~ 0.5"
   ]
  },
  {
   "cell_type": "code",
   "execution_count": 99,
   "metadata": {},
   "outputs": [
    {
     "data": {
      "text/plain": [
       "\"/Users/smshovan/Google Drive/Colab Notebooks/New Research/Master's Thesis 2\""
      ]
     },
     "execution_count": 99,
     "metadata": {},
     "output_type": "execute_result"
    }
   ],
   "source": [
    "pwd"
   ]
  },
  {
   "cell_type": "code",
   "execution_count": 100,
   "metadata": {},
   "outputs": [
    {
     "name": "stdout",
     "output_type": "stream",
     "text": [
      "Successful\n"
     ]
    }
   ],
   "source": [
    "#install cd-hit in anaconda \n",
    "if not os.system('cd-hit -i sequence_tb.fasta -o reduced_sequence_tb.fasta -c .4 -n 2 '):\n",
    "    print(\"Successful\")"
   ]
  },
  {
   "cell_type": "code",
   "execution_count": 101,
   "metadata": {},
   "outputs": [
    {
     "data": {
      "text/plain": [
       "(185, 1)"
      ]
     },
     "execution_count": 101,
     "metadata": {},
     "output_type": "execute_result"
    }
   ],
   "source": [
    "reduced_data = pd.read_table(directory+'reduced_sequence_tb.fasta')\n",
    "reduced_data.shape"
   ]
  },
  {
   "cell_type": "markdown",
   "metadata": {},
   "source": [
    "### Read the non-redundent sequence padding with dummy residue 'X'"
   ]
  },
  {
   "cell_type": "code",
   "execution_count": 168,
   "metadata": {},
   "outputs": [
    {
     "data": {
      "text/plain": [
       "<function TextIOWrapper.close()>"
      ]
     },
     "execution_count": 168,
     "metadata": {},
     "output_type": "execute_result"
    }
   ],
   "source": [
    "f= open(\"reduced_sequence_tb.fasta\",\"r\")\n",
    "\n",
    "\n",
    "reduced_sequence_tb_ls = f.readlines()\n",
    "\n",
    "f.close\n",
    "\n"
   ]
  },
  {
   "cell_type": "code",
   "execution_count": 169,
   "metadata": {},
   "outputs": [],
   "source": [
    "plmd_id = [None]* math.ceil(len(reduced_sequence_tb_ls)/2)\n",
    "sequence = [None]*math.ceil(len(reduced_sequence_tb_ls)/2)\n",
    "\n",
    "dummy= 'X'* math.floor(window_size/2)\n",
    "\n",
    "row=0\n",
    "for i in range(0,len(reduced_sequence_tb_ls),2):\n",
    "  plmd_id[row] = reduced_sequence_tb_ls[i][1:-1]\n",
    "  sequence[row] =  dummy+reduced_sequence_tb_ls[i+1][0:-1]+dummy\n",
    "  row = row + 1"
   ]
  },
  {
   "cell_type": "code",
   "execution_count": 170,
   "metadata": {},
   "outputs": [
    {
     "data": {
      "text/plain": [
       "93"
      ]
     },
     "execution_count": 170,
     "metadata": {},
     "output_type": "execute_result"
    }
   ],
   "source": [
    "plmd_id_df = pd.DataFrame(plmd_id, columns = ['PLMD-ID'])\n",
    "sequence_df = pd.DataFrame(sequence, columns = ['Sequence'])\n",
    "\n",
    "reduced_sequence_tb_df = pd.concat([plmd_id_df, sequence_df], axis=1)\n",
    "\n",
    "reduced_sequence_tb_df.shape[0]"
   ]
  },
  {
   "cell_type": "markdown",
   "metadata": {},
   "source": [
    "# 2. Windowing the protein into peptides\n",
    "### Split positives and negatives peptides from sequence"
   ]
  },
  {
   "cell_type": "markdown",
   "metadata": {},
   "source": [
    "### Fetching positives"
   ]
  },
  {
   "cell_type": "code",
   "execution_count": 171,
   "metadata": {},
   "outputs": [],
   "source": [
    "positives_ls =[]\n",
    "\n",
    "for i in range ( reduced_sequence_tb_df.shape[0]):\n",
    "    for j in range ( full_data.shape[0]):\n",
    "        if (reduced_sequence_tb_df['PLMD-ID'][i] == full_data['PLMD ID'][j]  ):\n",
    "            positives_ls.append(reduced_sequence_tb_df['Sequence'][i][full_data['Position'][j] - 1 : full_data['Position'][j] + 2*math.floor(window_size/2) ]) \n",
    "\n"
   ]
  },
  {
   "cell_type": "code",
   "execution_count": 172,
   "metadata": {},
   "outputs": [
    {
     "data": {
      "text/plain": [
       "182"
      ]
     },
     "execution_count": 172,
     "metadata": {},
     "output_type": "execute_result"
    }
   ],
   "source": [
    "positives_ls = (np.unique(np.array(positives_ls))).tolist()\n",
    "len(positives_ls)"
   ]
  },
  {
   "cell_type": "markdown",
   "metadata": {},
   "source": [
    "### Fetching negatives"
   ]
  },
  {
   "cell_type": "code",
   "execution_count": 173,
   "metadata": {},
   "outputs": [],
   "source": [
    "# 1. First fetch all peptides with the resposible residue in the middle\n",
    "\n",
    "all_peptides_ls =[]\n",
    "\n",
    "for i in range ( reduced_sequence_tb_df.shape[0]):\n",
    "    for j in range ( len(reduced_sequence_tb_df['Sequence'][i])):\n",
    "        if (reduced_sequence_tb_df['Sequence'][i][j] == resposible_residue):\n",
    "            all_peptides_ls.append(reduced_sequence_tb_df['Sequence'][i][j - math.floor(window_size/2)  : j + math.floor(window_size/2) + 1 ]) \n",
    "\n"
   ]
  },
  {
   "cell_type": "code",
   "execution_count": 174,
   "metadata": {},
   "outputs": [
    {
     "data": {
      "text/plain": [
       "1819"
      ]
     },
     "execution_count": 174,
     "metadata": {},
     "output_type": "execute_result"
    }
   ],
   "source": [
    "len(all_peptides_ls)"
   ]
  },
  {
   "cell_type": "code",
   "execution_count": 175,
   "metadata": {},
   "outputs": [],
   "source": [
    "# 2. Now subtract positives from negatives\n",
    "temp = all_peptides_ls[:]\n",
    "count = 0\n",
    "for i in range (len (all_peptides_ls) ):\n",
    "    for j in range (len(positives_ls) ):\n",
    "        if (all_peptides_ls[i] == positives_ls[j]):\n",
    "            temp.pop(i - count)\n",
    "            count = count + 1\n",
    "            break\n",
    "negatives_ls = temp"
   ]
  },
  {
   "cell_type": "code",
   "execution_count": 176,
   "metadata": {},
   "outputs": [],
   "source": [
    "# 3. Remove the duplicates\n",
    "negatives_ls =  (np.unique(np.array(negatives_ls))).tolist()"
   ]
  },
  {
   "cell_type": "code",
   "execution_count": 177,
   "metadata": {},
   "outputs": [
    {
     "data": {
      "text/plain": [
       "1636"
      ]
     },
     "execution_count": 177,
     "metadata": {},
     "output_type": "execute_result"
    }
   ],
   "source": [
    "len(negatives_ls)"
   ]
  },
  {
   "cell_type": "code",
   "execution_count": 178,
   "metadata": {},
   "outputs": [
    {
     "data": {
      "text/plain": [
       "array(['AAAAEVEERTRKLQQYREMLIAD', 'AADAAPAQAEEKKEAAPAAAPAA',\n",
       "       'AADNGDAWVEVKGQKMAPPQISA', ..., 'YVDVGATYYFNKNMSTYVDYKIN',\n",
       "       'YYLGNADEIAAKAAAVANQGKAK', 'YYTTGHYSIFIKVMCRSIDALQH'], dtype='<U23')"
      ]
     },
     "execution_count": 178,
     "metadata": {},
     "output_type": "execute_result"
    }
   ],
   "source": [
    "np.array(negatives_ls)"
   ]
  },
  {
   "cell_type": "code",
   "execution_count": 179,
   "metadata": {},
   "outputs": [
    {
     "name": "stdout",
     "output_type": "stream",
     "text": [
      "8.989010989010989\n"
     ]
    }
   ],
   "source": [
    "imbalance_ratio = len(negatives_ls) / len(positives_ls)\n",
    "print(imbalance_ratio)"
   ]
  },
  {
   "cell_type": "markdown",
   "metadata": {},
   "source": [
    "### Save positives and negatives into dataframe"
   ]
  },
  {
   "cell_type": "code",
   "execution_count": 180,
   "metadata": {},
   "outputs": [],
   "source": [
    "positives_df = pd.DataFrame(positives_ls, columns =['positives'])\n",
    "negatives_df = pd.DataFrame(negatives_ls, columns =['negatives'])"
   ]
  },
  {
   "cell_type": "markdown",
   "metadata": {},
   "source": [
    "### (Optional Start) if you want to avoid padding "
   ]
  },
  {
   "cell_type": "code",
   "execution_count": 181,
   "metadata": {},
   "outputs": [],
   "source": [
    "idx_list_pos = []\n",
    "for i in range(positives_df.shape[0]):\n",
    "    if (positives_df['positives'][i][0] == 'X'  or positives_df['positives'][i][-1] == 'X' ):\n",
    "        idx_list_pos.append(i)\n",
    "positives_df = positives_df.drop(index = idx_list_pos)"
   ]
  },
  {
   "cell_type": "code",
   "execution_count": 182,
   "metadata": {},
   "outputs": [
    {
     "data": {
      "text/plain": [
       "(167, 1)"
      ]
     },
     "execution_count": 182,
     "metadata": {},
     "output_type": "execute_result"
    }
   ],
   "source": [
    "positives_df.shape"
   ]
  },
  {
   "cell_type": "code",
   "execution_count": 183,
   "metadata": {},
   "outputs": [],
   "source": [
    "idx_list_neg = []\n",
    "for i in range(negatives_df.shape[0]):\n",
    "    if (negatives_df['negatives'][i][0] == 'X' or negatives_df['negatives'][i][-1] == 'X' ):\n",
    "        idx_list_neg.append(i)\n",
    "negatives_df = negatives_df.drop(index = idx_list_neg)"
   ]
  },
  {
   "cell_type": "code",
   "execution_count": 184,
   "metadata": {},
   "outputs": [
    {
     "data": {
      "text/plain": [
       "(1431, 1)"
      ]
     },
     "execution_count": 184,
     "metadata": {},
     "output_type": "execute_result"
    }
   ],
   "source": [
    "negatives_df.shape"
   ]
  },
  {
   "cell_type": "markdown",
   "metadata": {},
   "source": [
    "### (Optional end)"
   ]
  },
  {
   "cell_type": "code",
   "execution_count": 185,
   "metadata": {},
   "outputs": [
    {
     "name": "stdout",
     "output_type": "stream",
     "text": [
      "8.568862275449101\n"
     ]
    }
   ],
   "source": [
    "imbalance_ratio = negatives_df.shape[0]/ positives_df.shape[0]\n",
    "print(imbalance_ratio)\n",
    "\n",
    "positives_df.to_csv('positives.csv',index = False)\n",
    "negatives_df.to_csv('negatives.csv',index= False)"
   ]
  },
  {
   "cell_type": "markdown",
   "metadata": {},
   "source": [
    "# 3. Feature Extraction"
   ]
  },
  {
   "cell_type": "markdown",
   "metadata": {},
   "source": [
    "### Converting to fasta for using iFeatures"
   ]
  },
  {
   "cell_type": "code",
   "execution_count": 186,
   "metadata": {},
   "outputs": [],
   "source": [
    "positives_df = pd.read_csv(directory+'positives.csv')"
   ]
  },
  {
   "cell_type": "code",
   "execution_count": 187,
   "metadata": {},
   "outputs": [],
   "source": [
    "f= open(directory+\"positives.fasta\",\"w+\")\n",
    "info = 1\n",
    "for index in range(positives_df.shape[0]):\n",
    "    f.write(\">\" + str(info)+ \"\\n\"+ positives_df['positives'][index]+\"\\n\")\n",
    "    info = info + 1\n",
    "f.close()"
   ]
  },
  {
   "cell_type": "code",
   "execution_count": 188,
   "metadata": {},
   "outputs": [],
   "source": [
    "negatives_df = pd.read_csv(directory+'negatives.csv')"
   ]
  },
  {
   "cell_type": "code",
   "execution_count": 189,
   "metadata": {},
   "outputs": [],
   "source": [
    "f= open(directory+\"negatives.fasta\",\"w+\")\n",
    "for index in range(negatives_df.shape[0]):\n",
    "    f.write(\">\" + str(info)+ \"\\n\"+ negatives_df['negatives'][index]+\"\\n\")\n",
    "    info = info + 1\n",
    "f.close()"
   ]
  },
  {
   "cell_type": "markdown",
   "metadata": {},
   "source": [
    "### CKSAAP"
   ]
  },
  {
   "cell_type": "code",
   "execution_count": 190,
   "metadata": {},
   "outputs": [
    {
     "name": "stdout",
     "output_type": "stream",
     "text": [
      "Descriptor type: CKSAAP\r\n"
     ]
    }
   ],
   "source": [
    "!python /Users/smshovan/Google\\ Drive/Colab\\ Notebooks/iFeature-master/iFeature.py --file /Users/smshovan/Google\\ Drive/Colab\\ Notebooks/New\\ Research/Master\\'s\\ Thesis\\ 2/positives.fasta --type CKSAAP\n",
    "! mv encoding.tsv pos_cksaap.tsv"
   ]
  },
  {
   "cell_type": "code",
   "execution_count": 191,
   "metadata": {},
   "outputs": [
    {
     "name": "stdout",
     "output_type": "stream",
     "text": [
      "Descriptor type: CKSAAP\r\n"
     ]
    }
   ],
   "source": [
    "!python /Users/smshovan/Google\\ Drive/Colab\\ Notebooks/iFeature-master/iFeature.py --file /Users/smshovan/Google\\ Drive/Colab\\ Notebooks/New\\ Research/Master\\'s\\ Thesis\\ 2/negatives.fasta --type CKSAAP\n",
    "! mv encoding.tsv neg_cksaap.tsv"
   ]
  },
  {
   "cell_type": "markdown",
   "metadata": {},
   "source": [
    "### PseAAC"
   ]
  },
  {
   "cell_type": "code",
   "execution_count": 93,
   "metadata": {},
   "outputs": [
    {
     "name": "stdout",
     "output_type": "stream",
     "text": [
      "Descriptor type: PAAC\r\n",
      "Error: all the sequence length should be larger than the lambdaValue+1: 31\r\n",
      "\r\n",
      "\r\n"
     ]
    }
   ],
   "source": [
    "!python /Users/smshovan/Google\\ Drive/Colab\\ Notebooks/iFeature-master/iFeature.py --file /Users/smshovan/Google\\ Drive/Colab\\ Notebooks/New\\ Research/Master\\'s\\ Thesis\\ 1/positives.fasta --type PAAC\n",
    "! mv encoding.tsv pos_paac.tsv"
   ]
  },
  {
   "cell_type": "code",
   "execution_count": 62,
   "metadata": {},
   "outputs": [
    {
     "name": "stdout",
     "output_type": "stream",
     "text": [
      "Descriptor type: PAAC\r\n",
      "Error: all the sequence length should be larger than the lambdaValue+1: 31\r\n",
      "\r\n",
      "\r\n"
     ]
    }
   ],
   "source": [
    "!python /Users/smshovan/Google\\ Drive/Colab\\ Notebooks/iFeature-master/iFeature.py --file /Users/smshovan/Google\\ Drive/Colab\\ Notebooks/New\\ Research/Master\\'s\\ Thesis\\ 1/negatives.fasta --type PAAC\n",
    "! mv encoding.tsv neg_paac.tsv"
   ]
  },
  {
   "cell_type": "markdown",
   "metadata": {},
   "source": [
    "### AAINDEX"
   ]
  },
  {
   "cell_type": "code",
   "execution_count": 340,
   "metadata": {},
   "outputs": [
    {
     "data": {
      "text/plain": [
       "'/Users/smshovan/ncbi-blast-2.10.0+/pssms/neg_pssms'"
      ]
     },
     "execution_count": 340,
     "metadata": {},
     "output_type": "execute_result"
    }
   ],
   "source": [
    "pwd"
   ]
  },
  {
   "cell_type": "code",
   "execution_count": 338,
   "metadata": {},
   "outputs": [
    {
     "name": "stdout",
     "output_type": "stream",
     "text": [
      "Descriptor type: AAINDEX\r\n"
     ]
    }
   ],
   "source": [
    "!python /Users/smshovan/Google\\ Drive/Colab\\ Notebooks/iFeature-master/iFeature.py --file /Users/smshovan/Google\\ Drive/Colab\\ Notebooks/New\\ Research/Master\\'s\\ Thesis\\ 2/positives.fasta --type AAINDEX\n",
    "! mv encoding.tsv pos_aai2.tsv"
   ]
  },
  {
   "cell_type": "code",
   "execution_count": 339,
   "metadata": {},
   "outputs": [
    {
     "name": "stdout",
     "output_type": "stream",
     "text": [
      "Descriptor type: AAINDEX\r\n"
     ]
    }
   ],
   "source": [
    "!python /Users/smshovan/Google\\ Drive/Colab\\ Notebooks/iFeature-master/iFeature.py --file /Users/smshovan/Google\\ Drive/Colab\\ Notebooks/New\\ Research/Master\\'s\\ Thesis\\ 2/negatives.fasta --type AAINDEX\n",
    "! mv encoding.tsv neg_aai2.tsv"
   ]
  },
  {
   "cell_type": "markdown",
   "metadata": {},
   "source": [
    "## PSSM\n",
    "\n",
    "* 1. Install Local Blast \n",
    "* 2. Create db folder \n",
    "* 3. makeblastdb to create your database from protein dataset / download readymade database \n",
    "* 4. psiblast command"
   ]
  },
  {
   "cell_type": "code",
   "execution_count": 247,
   "metadata": {},
   "outputs": [],
   "source": [
    "! cd /Users/smshovan/ncbi-blast-2.10.0+/"
   ]
  },
  {
   "cell_type": "markdown",
   "metadata": {},
   "source": [
    "### Creating fasta files with respect to each peptides"
   ]
  },
  {
   "cell_type": "code",
   "execution_count": 250,
   "metadata": {},
   "outputs": [],
   "source": [
    "for i in range (positives_df.shape[0]):\n",
    "    f = open(\"/Users/smshovan/ncbi-blast-2.10.0+/queries/pos_peptides/pos_peptides\"+str(i+1)+\".fasta\", \"w+\")\n",
    "    f.write('>' + str(i+1) + '\\n' + positives_df['positives'][i])\n",
    "    f.close()"
   ]
  },
  {
   "cell_type": "code",
   "execution_count": 251,
   "metadata": {},
   "outputs": [],
   "source": [
    "for i in range (negatives_df.shape[0]):\n",
    "    f = open(\"/Users/smshovan/ncbi-blast-2.10.0+/queries/neg_peptides/neg_peptides\"+str(i+1)+\".fasta\", \"w+\")\n",
    "    f.write('>' + str(i+1) + '\\n' + negatives_df['negatives'][i])\n",
    "    f.close()"
   ]
  },
  {
   "cell_type": "markdown",
   "metadata": {},
   "source": [
    "### Blast Command"
   ]
  },
  {
   "cell_type": "code",
   "execution_count": 252,
   "metadata": {},
   "outputs": [
    {
     "name": "stdout",
     "output_type": "stream",
     "text": [
      "/Users/smshovan/ncbi-blast-2.10.0+/pssms/pos_pssms\n"
     ]
    }
   ],
   "source": [
    "cd /Users/smshovan/ncbi-blast-2.10.0+/pssms/pos_pssms"
   ]
  },
  {
   "cell_type": "code",
   "execution_count": 253,
   "metadata": {
    "scrolled": true
   },
   "outputs": [],
   "source": [
    "\n",
    "\n",
    "for i in range(positives_df.shape[0]+1):\n",
    "    os.system('psiblast -query /Users/smshovan/ncbi-blast-2.10.0+/queries/pos_peptides/pos_peptides'+str(i)+'.fasta -db /Users/smshovan/ncbi-blast-2.10.0+/db/newdatabase -num_iterations=3 -evalue=0.001 -out_ascii_pssm=pos_pssm'+str(i))\n",
    "    "
   ]
  },
  {
   "cell_type": "code",
   "execution_count": 254,
   "metadata": {},
   "outputs": [
    {
     "name": "stdout",
     "output_type": "stream",
     "text": [
      "/Users/smshovan/ncbi-blast-2.10.0+/pssms/neg_pssms\n"
     ]
    }
   ],
   "source": [
    "cd /Users/smshovan/ncbi-blast-2.10.0+/pssms/neg_pssms"
   ]
  },
  {
   "cell_type": "code",
   "execution_count": 255,
   "metadata": {},
   "outputs": [],
   "source": [
    "for i in range(negatives_df.shape[0]+1):\n",
    "    os.system('psiblast -query /Users/smshovan/ncbi-blast-2.10.0+/queries/neg_peptides/neg_peptides'+str(i)+'.fasta -db /Users/smshovan/ncbi-blast-2.10.0+/db/newdatabase -num_iterations=3 -evalue=0.001 -out_ascii_pssm=neg_pssm'+str(i))"
   ]
  },
  {
   "cell_type": "markdown",
   "metadata": {},
   "source": [
    "### PSSM Fetch"
   ]
  },
  {
   "cell_type": "code",
   "execution_count": 256,
   "metadata": {},
   "outputs": [
    {
     "name": "stdout",
     "output_type": "stream",
     "text": [
      "(23, 20)\n"
     ]
    }
   ],
   "source": [
    "\n",
    "\n",
    "matrix = [[0 for x in range(20)] for y in range(window_size)] \n",
    "\n",
    "print(np.array(matrix).shape)"
   ]
  },
  {
   "cell_type": "code",
   "execution_count": 257,
   "metadata": {},
   "outputs": [],
   "source": [
    "pos_evo_feature_vector = []\n",
    "\n",
    "for index in range(positives_df.shape[0]):\n",
    "    \n",
    "    if ( not (os.path.exists('/Users/smshovan/ncbi-blast-2.10.0+/pssms/pos_pssms/pos_pssm'+str(index+1)) )  ):\n",
    "        pos_evo_feature_vector.append( list( np.zeros(210)))\n",
    "        continue \n",
    "    \n",
    "    f = open('/Users/smshovan/ncbi-blast-2.10.0+/pssms/pos_pssms/pos_pssm'+str(index+1), 'r')  \n",
    "\n",
    "    # zero PSSM shape matrix\n",
    "    matrix = [[0 for x in range(20)] for y in range(window_size)] \n",
    "\n",
    "    # fetch only matrix\n",
    "    row = 0\n",
    "    for i, line in enumerate(f):\n",
    "        if i>=3 and i<=window_size + 2:\n",
    "            col = 0\n",
    "            myLine = line.split()\n",
    "            for j in range(2,22):\n",
    "                matrix[row][col] = myLine[j]\n",
    "                col+=1\n",
    "            row+=1\n",
    "\n",
    "\n",
    "\n",
    "    #grabbed matrix\n",
    "    matrix = np.array(matrix).astype(np.float)\n",
    "\n",
    "    # Normalization\n",
    "    normMatrix = stats.zscore(matrix)\n",
    "\n",
    "    # Multiplication with the transpose of itself\n",
    "    reduced_matrix = np.matmul(normMatrix.T, normMatrix)\n",
    "\n",
    "\n",
    "\n",
    "    # Grabbing Vector\n",
    "    evo_vector = []\n",
    "    for i in range(20):\n",
    "        for j in range(20):\n",
    "            if (i <= j):\n",
    "                evo_vector.append(reduced_matrix[i][j]) \n",
    "\n",
    "    #All vectors\n",
    "    pos_evo_feature_vector.append(evo_vector)\n",
    "\n",
    "\n",
    "    f.close()\n",
    "\n"
   ]
  },
  {
   "cell_type": "code",
   "execution_count": 258,
   "metadata": {},
   "outputs": [
    {
     "data": {
      "text/plain": [
       "(167, 210)"
      ]
     },
     "execution_count": 258,
     "metadata": {},
     "output_type": "execute_result"
    }
   ],
   "source": [
    "np.array(pos_evo_feature_vector).shape"
   ]
  },
  {
   "cell_type": "code",
   "execution_count": 259,
   "metadata": {},
   "outputs": [],
   "source": [
    "neg_evo_feature_vector = []\n",
    "\n",
    "for index in range(negatives_df.shape[0]):\n",
    "    \n",
    "    if ( not (os.path.exists('/Users/smshovan/ncbi-blast-2.10.0+/pssms/neg_pssms/neg_pssm'+str(index+1)) )  ):\n",
    "        neg_evo_feature_vector.append( list( np.zeros(210)))\n",
    "        continue \n",
    "    \n",
    "    f = open('/Users/smshovan/ncbi-blast-2.10.0+/pssms/neg_pssms/neg_pssm'+str(index+1), 'r')  \n",
    "\n",
    "    # zero PSSM shape matrix\n",
    "    matrix = [[0 for x in range(20)] for y in range(window_size)] \n",
    "\n",
    "    # fetch only matrix\n",
    "    row = 0\n",
    "    for i, line in enumerate(f):\n",
    "        if i>=3 and i<=window_size + 2:\n",
    "            col = 0\n",
    "            myLine = line.split()\n",
    "            for j in range(2,22):\n",
    "                matrix[row][col] = myLine[j]\n",
    "                col+=1\n",
    "            row+=1\n",
    "\n",
    "\n",
    "\n",
    "    #grabbed matrix\n",
    "    matrix = np.array(matrix).astype(np.float)\n",
    "\n",
    "    # Normalization\n",
    "    normMatrix = stats.zscore(matrix)\n",
    "\n",
    "    # Multiplication with the transpose of itself\n",
    "    reduced_matrix = np.matmul(normMatrix.T, normMatrix)\n",
    "\n",
    "\n",
    "\n",
    "    # Grabbing Vector\n",
    "    evo_vector = []\n",
    "    for i in range(20):\n",
    "        for j in range(20):\n",
    "            if (i <= j):\n",
    "                evo_vector.append(reduced_matrix[i][j]) \n",
    "\n",
    "    #All vectors\n",
    "    neg_evo_feature_vector.append(evo_vector)\n",
    "\n",
    "\n",
    "    f.close()\n",
    "\n"
   ]
  },
  {
   "cell_type": "code",
   "execution_count": 260,
   "metadata": {},
   "outputs": [
    {
     "data": {
      "text/plain": [
       "(1431, 210)"
      ]
     },
     "execution_count": 260,
     "metadata": {},
     "output_type": "execute_result"
    }
   ],
   "source": [
    "np.array(neg_evo_feature_vector).shape"
   ]
  },
  {
   "cell_type": "markdown",
   "metadata": {},
   "source": [
    "## Save vectors using dataframe"
   ]
  },
  {
   "cell_type": "code",
   "execution_count": 261,
   "metadata": {},
   "outputs": [],
   "source": [
    "\n",
    "\n",
    "pos_evo_feature_vector_df = pd.DataFrame(pos_evo_feature_vector)\n",
    "neg_evo_feature_vector_df = pd.DataFrame(neg_evo_feature_vector)\n",
    "\n",
    "pos_evo_feature_vector_df.to_csv(directory+'pos_pssm.csv',index = False)\n",
    "neg_evo_feature_vector_df.to_csv(directory+'neg_pssm.csv',index= False)"
   ]
  },
  {
   "cell_type": "markdown",
   "metadata": {},
   "source": [
    "# 4. Train Test Split "
   ]
  },
  {
   "cell_type": "markdown",
   "metadata": {},
   "source": [
    "## CKSAAP positive"
   ]
  },
  {
   "cell_type": "code",
   "execution_count": 347,
   "metadata": {},
   "outputs": [],
   "source": [
    "feature_cksaap_pos_cksaap = pd.read_table(directory+\"pos_cksaap.tsv\")\n",
    "del feature_cksaap_pos_cksaap['#']\n",
    "\n",
    "feature_cksaap_pos_aai = pd.read_table(directory+\"pos_aai.tsv\")\n",
    "del feature_cksaap_pos_aai['#']\n",
    "\n",
    "feature_cksaap_pos_pssm = pd.read_csv(directory+\"pos_pssm.csv\")\n",
    "\n",
    "feature_cksaap_pos = pd.concat([feature_cksaap_pos_cksaap,feature_cksaap_pos_aai, feature_cksaap_pos_pssm],axis=1)"
   ]
  },
  {
   "cell_type": "code",
   "execution_count": 348,
   "metadata": {},
   "outputs": [
    {
     "data": {
      "text/plain": [
       "(167, 14823)"
      ]
     },
     "execution_count": 348,
     "metadata": {},
     "output_type": "execute_result"
    }
   ],
   "source": [
    "feature_cksaap_pos.shape"
   ]
  },
  {
   "cell_type": "markdown",
   "metadata": {},
   "source": [
    "### Adding label 1 for positives"
   ]
  },
  {
   "cell_type": "code",
   "execution_count": 349,
   "metadata": {},
   "outputs": [],
   "source": [
    "feature_cksaap_pos['label'] = 1"
   ]
  },
  {
   "cell_type": "code",
   "execution_count": 350,
   "metadata": {},
   "outputs": [
    {
     "data": {
      "text/html": [
       "<div>\n",
       "<style scoped>\n",
       "    .dataframe tbody tr th:only-of-type {\n",
       "        vertical-align: middle;\n",
       "    }\n",
       "\n",
       "    .dataframe tbody tr th {\n",
       "        vertical-align: top;\n",
       "    }\n",
       "\n",
       "    .dataframe thead th {\n",
       "        text-align: right;\n",
       "    }\n",
       "</style>\n",
       "<table border=\"1\" class=\"dataframe\">\n",
       "  <thead>\n",
       "    <tr style=\"text-align: right;\">\n",
       "      <th></th>\n",
       "      <th>AA.gap0</th>\n",
       "      <th>AC.gap0</th>\n",
       "      <th>AD.gap0</th>\n",
       "      <th>AE.gap0</th>\n",
       "      <th>AF.gap0</th>\n",
       "      <th>AG.gap0</th>\n",
       "      <th>AH.gap0</th>\n",
       "      <th>AI.gap0</th>\n",
       "      <th>AK.gap0</th>\n",
       "      <th>AL.gap0</th>\n",
       "      <th>...</th>\n",
       "      <th>201</th>\n",
       "      <th>202</th>\n",
       "      <th>203</th>\n",
       "      <th>204</th>\n",
       "      <th>205</th>\n",
       "      <th>206</th>\n",
       "      <th>207</th>\n",
       "      <th>208</th>\n",
       "      <th>209</th>\n",
       "      <th>label</th>\n",
       "    </tr>\n",
       "  </thead>\n",
       "  <tbody>\n",
       "    <tr>\n",
       "      <th>0</th>\n",
       "      <td>0.136364</td>\n",
       "      <td>0.0</td>\n",
       "      <td>0.045455</td>\n",
       "      <td>0.000000</td>\n",
       "      <td>0.0</td>\n",
       "      <td>0.0</td>\n",
       "      <td>0.0</td>\n",
       "      <td>0.045455</td>\n",
       "      <td>0.0</td>\n",
       "      <td>0.000000</td>\n",
       "      <td>...</td>\n",
       "      <td>6.337180</td>\n",
       "      <td>6.845856</td>\n",
       "      <td>2.406454</td>\n",
       "      <td>23.0</td>\n",
       "      <td>14.116268</td>\n",
       "      <td>10.768108</td>\n",
       "      <td>23.0</td>\n",
       "      <td>12.221369</td>\n",
       "      <td>23.0</td>\n",
       "      <td>1</td>\n",
       "    </tr>\n",
       "    <tr>\n",
       "      <th>1</th>\n",
       "      <td>0.090909</td>\n",
       "      <td>0.0</td>\n",
       "      <td>0.090909</td>\n",
       "      <td>0.000000</td>\n",
       "      <td>0.0</td>\n",
       "      <td>0.0</td>\n",
       "      <td>0.0</td>\n",
       "      <td>0.000000</td>\n",
       "      <td>0.0</td>\n",
       "      <td>0.000000</td>\n",
       "      <td>...</td>\n",
       "      <td>-5.807198</td>\n",
       "      <td>-6.834845</td>\n",
       "      <td>6.963572</td>\n",
       "      <td>23.0</td>\n",
       "      <td>18.292026</td>\n",
       "      <td>-1.913133</td>\n",
       "      <td>23.0</td>\n",
       "      <td>3.019776</td>\n",
       "      <td>23.0</td>\n",
       "      <td>1</td>\n",
       "    </tr>\n",
       "    <tr>\n",
       "      <th>2</th>\n",
       "      <td>0.045455</td>\n",
       "      <td>0.0</td>\n",
       "      <td>0.000000</td>\n",
       "      <td>0.000000</td>\n",
       "      <td>0.0</td>\n",
       "      <td>0.0</td>\n",
       "      <td>0.0</td>\n",
       "      <td>0.000000</td>\n",
       "      <td>0.0</td>\n",
       "      <td>0.045455</td>\n",
       "      <td>...</td>\n",
       "      <td>-4.118666</td>\n",
       "      <td>-7.183324</td>\n",
       "      <td>7.213733</td>\n",
       "      <td>23.0</td>\n",
       "      <td>18.932211</td>\n",
       "      <td>0.980353</td>\n",
       "      <td>23.0</td>\n",
       "      <td>-1.006995</td>\n",
       "      <td>23.0</td>\n",
       "      <td>1</td>\n",
       "    </tr>\n",
       "    <tr>\n",
       "      <th>3</th>\n",
       "      <td>0.181818</td>\n",
       "      <td>0.0</td>\n",
       "      <td>0.000000</td>\n",
       "      <td>0.045455</td>\n",
       "      <td>0.0</td>\n",
       "      <td>0.0</td>\n",
       "      <td>0.0</td>\n",
       "      <td>0.000000</td>\n",
       "      <td>0.0</td>\n",
       "      <td>0.000000</td>\n",
       "      <td>...</td>\n",
       "      <td>-5.383612</td>\n",
       "      <td>-4.679930</td>\n",
       "      <td>3.381193</td>\n",
       "      <td>23.0</td>\n",
       "      <td>22.151127</td>\n",
       "      <td>0.928139</td>\n",
       "      <td>23.0</td>\n",
       "      <td>2.651909</td>\n",
       "      <td>23.0</td>\n",
       "      <td>1</td>\n",
       "    </tr>\n",
       "    <tr>\n",
       "      <th>4</th>\n",
       "      <td>0.000000</td>\n",
       "      <td>0.0</td>\n",
       "      <td>0.090909</td>\n",
       "      <td>0.000000</td>\n",
       "      <td>0.0</td>\n",
       "      <td>0.0</td>\n",
       "      <td>0.0</td>\n",
       "      <td>0.000000</td>\n",
       "      <td>0.0</td>\n",
       "      <td>0.000000</td>\n",
       "      <td>...</td>\n",
       "      <td>3.897548</td>\n",
       "      <td>3.808281</td>\n",
       "      <td>6.157220</td>\n",
       "      <td>23.0</td>\n",
       "      <td>4.801374</td>\n",
       "      <td>3.155223</td>\n",
       "      <td>23.0</td>\n",
       "      <td>17.095738</td>\n",
       "      <td>23.0</td>\n",
       "      <td>1</td>\n",
       "    </tr>\n",
       "  </tbody>\n",
       "</table>\n",
       "<p>5 rows × 14824 columns</p>\n",
       "</div>"
      ],
      "text/plain": [
       "    AA.gap0  AC.gap0   AD.gap0   AE.gap0  AF.gap0  AG.gap0  AH.gap0   AI.gap0  \\\n",
       "0  0.136364      0.0  0.045455  0.000000      0.0      0.0      0.0  0.045455   \n",
       "1  0.090909      0.0  0.090909  0.000000      0.0      0.0      0.0  0.000000   \n",
       "2  0.045455      0.0  0.000000  0.000000      0.0      0.0      0.0  0.000000   \n",
       "3  0.181818      0.0  0.000000  0.045455      0.0      0.0      0.0  0.000000   \n",
       "4  0.000000      0.0  0.090909  0.000000      0.0      0.0      0.0  0.000000   \n",
       "\n",
       "   AK.gap0   AL.gap0  ...       201       202       203   204        205  \\\n",
       "0      0.0  0.000000  ...  6.337180  6.845856  2.406454  23.0  14.116268   \n",
       "1      0.0  0.000000  ... -5.807198 -6.834845  6.963572  23.0  18.292026   \n",
       "2      0.0  0.045455  ... -4.118666 -7.183324  7.213733  23.0  18.932211   \n",
       "3      0.0  0.000000  ... -5.383612 -4.679930  3.381193  23.0  22.151127   \n",
       "4      0.0  0.000000  ...  3.897548  3.808281  6.157220  23.0   4.801374   \n",
       "\n",
       "         206   207        208   209  label  \n",
       "0  10.768108  23.0  12.221369  23.0      1  \n",
       "1  -1.913133  23.0   3.019776  23.0      1  \n",
       "2   0.980353  23.0  -1.006995  23.0      1  \n",
       "3   0.928139  23.0   2.651909  23.0      1  \n",
       "4   3.155223  23.0  17.095738  23.0      1  \n",
       "\n",
       "[5 rows x 14824 columns]"
      ]
     },
     "execution_count": 350,
     "metadata": {},
     "output_type": "execute_result"
    }
   ],
   "source": [
    "feature_cksaap_pos.head()"
   ]
  },
  {
   "cell_type": "markdown",
   "metadata": {},
   "source": [
    "## CKSAAP negative"
   ]
  },
  {
   "cell_type": "code",
   "execution_count": 351,
   "metadata": {},
   "outputs": [],
   "source": [
    "feature_cksaap_neg_cksaap = pd.read_table(directory+\"neg_cksaap.tsv\")\n",
    "del feature_cksaap_neg_cksaap['#']\n",
    "\n",
    "feature_cksaap_neg_aai = pd.read_table(directory+\"neg_aai.tsv\")\n",
    "del feature_cksaap_neg_aai['#']\n",
    "\n",
    "\n",
    "feature_cksaap_neg_pssm = pd.read_csv(directory+\"neg_pssm.csv\")\n",
    "\n",
    "feature_cksaap_neg = pd.concat([feature_cksaap_neg_cksaap,feature_cksaap_neg_aai, feature_cksaap_neg_pssm],axis=1)"
   ]
  },
  {
   "cell_type": "code",
   "execution_count": 436,
   "metadata": {},
   "outputs": [
    {
     "data": {
      "text/plain": [
       "(1431, 12213)"
      ]
     },
     "execution_count": 436,
     "metadata": {},
     "output_type": "execute_result"
    }
   ],
   "source": [
    "feature_cksaap_neg_aai.shape"
   ]
  },
  {
   "cell_type": "code",
   "execution_count": 353,
   "metadata": {},
   "outputs": [
    {
     "data": {
      "text/plain": [
       "(1431, 14823)"
      ]
     },
     "execution_count": 353,
     "metadata": {},
     "output_type": "execute_result"
    }
   ],
   "source": [
    "feature_cksaap_neg.shape"
   ]
  },
  {
   "cell_type": "markdown",
   "metadata": {},
   "source": [
    "## Adding label 0 for negatives"
   ]
  },
  {
   "cell_type": "code",
   "execution_count": 354,
   "metadata": {},
   "outputs": [],
   "source": [
    "feature_cksaap_neg['label'] = 0"
   ]
  },
  {
   "cell_type": "code",
   "execution_count": 355,
   "metadata": {},
   "outputs": [
    {
     "data": {
      "text/html": [
       "<div>\n",
       "<style scoped>\n",
       "    .dataframe tbody tr th:only-of-type {\n",
       "        vertical-align: middle;\n",
       "    }\n",
       "\n",
       "    .dataframe tbody tr th {\n",
       "        vertical-align: top;\n",
       "    }\n",
       "\n",
       "    .dataframe thead th {\n",
       "        text-align: right;\n",
       "    }\n",
       "</style>\n",
       "<table border=\"1\" class=\"dataframe\">\n",
       "  <thead>\n",
       "    <tr style=\"text-align: right;\">\n",
       "      <th></th>\n",
       "      <th>AA.gap0</th>\n",
       "      <th>AC.gap0</th>\n",
       "      <th>AD.gap0</th>\n",
       "      <th>AE.gap0</th>\n",
       "      <th>AF.gap0</th>\n",
       "      <th>AG.gap0</th>\n",
       "      <th>AH.gap0</th>\n",
       "      <th>AI.gap0</th>\n",
       "      <th>AK.gap0</th>\n",
       "      <th>AL.gap0</th>\n",
       "      <th>...</th>\n",
       "      <th>201</th>\n",
       "      <th>202</th>\n",
       "      <th>203</th>\n",
       "      <th>204</th>\n",
       "      <th>205</th>\n",
       "      <th>206</th>\n",
       "      <th>207</th>\n",
       "      <th>208</th>\n",
       "      <th>209</th>\n",
       "      <th>label</th>\n",
       "    </tr>\n",
       "  </thead>\n",
       "  <tbody>\n",
       "    <tr>\n",
       "      <th>0</th>\n",
       "      <td>0.136364</td>\n",
       "      <td>0.0</td>\n",
       "      <td>0.045455</td>\n",
       "      <td>0.045455</td>\n",
       "      <td>0.0</td>\n",
       "      <td>0.0</td>\n",
       "      <td>0.0</td>\n",
       "      <td>0.000000</td>\n",
       "      <td>0.000000</td>\n",
       "      <td>0.0</td>\n",
       "      <td>...</td>\n",
       "      <td>-2.212114</td>\n",
       "      <td>-6.382917</td>\n",
       "      <td>5.111755</td>\n",
       "      <td>23.0</td>\n",
       "      <td>20.653589</td>\n",
       "      <td>3.271798</td>\n",
       "      <td>23.0</td>\n",
       "      <td>3.124995</td>\n",
       "      <td>23.0</td>\n",
       "      <td>0</td>\n",
       "    </tr>\n",
       "    <tr>\n",
       "      <th>1</th>\n",
       "      <td>0.272727</td>\n",
       "      <td>0.0</td>\n",
       "      <td>0.045455</td>\n",
       "      <td>0.045455</td>\n",
       "      <td>0.0</td>\n",
       "      <td>0.0</td>\n",
       "      <td>0.0</td>\n",
       "      <td>0.000000</td>\n",
       "      <td>0.000000</td>\n",
       "      <td>0.0</td>\n",
       "      <td>...</td>\n",
       "      <td>19.767110</td>\n",
       "      <td>7.641310</td>\n",
       "      <td>22.595689</td>\n",
       "      <td>23.0</td>\n",
       "      <td>14.313225</td>\n",
       "      <td>21.055715</td>\n",
       "      <td>23.0</td>\n",
       "      <td>8.982718</td>\n",
       "      <td>23.0</td>\n",
       "      <td>0</td>\n",
       "    </tr>\n",
       "    <tr>\n",
       "      <th>2</th>\n",
       "      <td>0.045455</td>\n",
       "      <td>0.0</td>\n",
       "      <td>0.045455</td>\n",
       "      <td>0.000000</td>\n",
       "      <td>0.0</td>\n",
       "      <td>0.0</td>\n",
       "      <td>0.0</td>\n",
       "      <td>0.000000</td>\n",
       "      <td>0.000000</td>\n",
       "      <td>0.0</td>\n",
       "      <td>...</td>\n",
       "      <td>-8.896220</td>\n",
       "      <td>1.464235</td>\n",
       "      <td>10.546529</td>\n",
       "      <td>23.0</td>\n",
       "      <td>13.718579</td>\n",
       "      <td>-2.276646</td>\n",
       "      <td>23.0</td>\n",
       "      <td>6.902642</td>\n",
       "      <td>23.0</td>\n",
       "      <td>0</td>\n",
       "    </tr>\n",
       "    <tr>\n",
       "      <th>3</th>\n",
       "      <td>0.045455</td>\n",
       "      <td>0.0</td>\n",
       "      <td>0.045455</td>\n",
       "      <td>0.000000</td>\n",
       "      <td>0.0</td>\n",
       "      <td>0.0</td>\n",
       "      <td>0.0</td>\n",
       "      <td>0.045455</td>\n",
       "      <td>0.045455</td>\n",
       "      <td>0.0</td>\n",
       "      <td>...</td>\n",
       "      <td>-2.704127</td>\n",
       "      <td>-6.208143</td>\n",
       "      <td>1.704505</td>\n",
       "      <td>23.0</td>\n",
       "      <td>20.243692</td>\n",
       "      <td>3.123007</td>\n",
       "      <td>23.0</td>\n",
       "      <td>5.529402</td>\n",
       "      <td>23.0</td>\n",
       "      <td>0</td>\n",
       "    </tr>\n",
       "    <tr>\n",
       "      <th>4</th>\n",
       "      <td>0.045455</td>\n",
       "      <td>0.0</td>\n",
       "      <td>0.000000</td>\n",
       "      <td>0.045455</td>\n",
       "      <td>0.0</td>\n",
       "      <td>0.0</td>\n",
       "      <td>0.0</td>\n",
       "      <td>0.000000</td>\n",
       "      <td>0.090909</td>\n",
       "      <td>0.0</td>\n",
       "      <td>...</td>\n",
       "      <td>-10.137354</td>\n",
       "      <td>-11.012890</td>\n",
       "      <td>3.195705</td>\n",
       "      <td>23.0</td>\n",
       "      <td>21.988767</td>\n",
       "      <td>5.658907</td>\n",
       "      <td>23.0</td>\n",
       "      <td>4.529164</td>\n",
       "      <td>23.0</td>\n",
       "      <td>0</td>\n",
       "    </tr>\n",
       "  </tbody>\n",
       "</table>\n",
       "<p>5 rows × 14824 columns</p>\n",
       "</div>"
      ],
      "text/plain": [
       "    AA.gap0  AC.gap0   AD.gap0   AE.gap0  AF.gap0  AG.gap0  AH.gap0   AI.gap0  \\\n",
       "0  0.136364      0.0  0.045455  0.045455      0.0      0.0      0.0  0.000000   \n",
       "1  0.272727      0.0  0.045455  0.045455      0.0      0.0      0.0  0.000000   \n",
       "2  0.045455      0.0  0.045455  0.000000      0.0      0.0      0.0  0.000000   \n",
       "3  0.045455      0.0  0.045455  0.000000      0.0      0.0      0.0  0.045455   \n",
       "4  0.045455      0.0  0.000000  0.045455      0.0      0.0      0.0  0.000000   \n",
       "\n",
       "    AK.gap0  AL.gap0  ...        201        202        203   204        205  \\\n",
       "0  0.000000      0.0  ...  -2.212114  -6.382917   5.111755  23.0  20.653589   \n",
       "1  0.000000      0.0  ...  19.767110   7.641310  22.595689  23.0  14.313225   \n",
       "2  0.000000      0.0  ...  -8.896220   1.464235  10.546529  23.0  13.718579   \n",
       "3  0.045455      0.0  ...  -2.704127  -6.208143   1.704505  23.0  20.243692   \n",
       "4  0.090909      0.0  ... -10.137354 -11.012890   3.195705  23.0  21.988767   \n",
       "\n",
       "         206   207       208   209  label  \n",
       "0   3.271798  23.0  3.124995  23.0      0  \n",
       "1  21.055715  23.0  8.982718  23.0      0  \n",
       "2  -2.276646  23.0  6.902642  23.0      0  \n",
       "3   3.123007  23.0  5.529402  23.0      0  \n",
       "4   5.658907  23.0  4.529164  23.0      0  \n",
       "\n",
       "[5 rows x 14824 columns]"
      ]
     },
     "execution_count": 355,
     "metadata": {},
     "output_type": "execute_result"
    }
   ],
   "source": [
    "feature_cksaap_neg.head()"
   ]
  },
  {
   "cell_type": "markdown",
   "metadata": {},
   "source": [
    "### Marging two dataFrames"
   ]
  },
  {
   "cell_type": "code",
   "execution_count": 356,
   "metadata": {},
   "outputs": [],
   "source": [
    "feature_cksaap = feature_cksaap_pos.append(feature_cksaap_neg)"
   ]
  },
  {
   "cell_type": "code",
   "execution_count": 357,
   "metadata": {},
   "outputs": [
    {
     "data": {
      "text/html": [
       "<div>\n",
       "<style scoped>\n",
       "    .dataframe tbody tr th:only-of-type {\n",
       "        vertical-align: middle;\n",
       "    }\n",
       "\n",
       "    .dataframe tbody tr th {\n",
       "        vertical-align: top;\n",
       "    }\n",
       "\n",
       "    .dataframe thead th {\n",
       "        text-align: right;\n",
       "    }\n",
       "</style>\n",
       "<table border=\"1\" class=\"dataframe\">\n",
       "  <thead>\n",
       "    <tr style=\"text-align: right;\">\n",
       "      <th></th>\n",
       "      <th>AA.gap0</th>\n",
       "      <th>AC.gap0</th>\n",
       "      <th>AD.gap0</th>\n",
       "      <th>AE.gap0</th>\n",
       "      <th>AF.gap0</th>\n",
       "      <th>AG.gap0</th>\n",
       "      <th>AH.gap0</th>\n",
       "      <th>AI.gap0</th>\n",
       "      <th>AK.gap0</th>\n",
       "      <th>AL.gap0</th>\n",
       "      <th>...</th>\n",
       "      <th>201</th>\n",
       "      <th>202</th>\n",
       "      <th>203</th>\n",
       "      <th>204</th>\n",
       "      <th>205</th>\n",
       "      <th>206</th>\n",
       "      <th>207</th>\n",
       "      <th>208</th>\n",
       "      <th>209</th>\n",
       "      <th>label</th>\n",
       "    </tr>\n",
       "  </thead>\n",
       "  <tbody>\n",
       "    <tr>\n",
       "      <th>0</th>\n",
       "      <td>0.136364</td>\n",
       "      <td>0.0</td>\n",
       "      <td>0.045455</td>\n",
       "      <td>0.000000</td>\n",
       "      <td>0.0</td>\n",
       "      <td>0.000000</td>\n",
       "      <td>0.0</td>\n",
       "      <td>0.045455</td>\n",
       "      <td>0.000000</td>\n",
       "      <td>0.000000</td>\n",
       "      <td>...</td>\n",
       "      <td>6.337180</td>\n",
       "      <td>6.845856</td>\n",
       "      <td>2.406454</td>\n",
       "      <td>23.0</td>\n",
       "      <td>14.116268</td>\n",
       "      <td>10.768108</td>\n",
       "      <td>23.0</td>\n",
       "      <td>12.221369</td>\n",
       "      <td>23.0</td>\n",
       "      <td>1</td>\n",
       "    </tr>\n",
       "    <tr>\n",
       "      <th>1</th>\n",
       "      <td>0.090909</td>\n",
       "      <td>0.0</td>\n",
       "      <td>0.090909</td>\n",
       "      <td>0.000000</td>\n",
       "      <td>0.0</td>\n",
       "      <td>0.000000</td>\n",
       "      <td>0.0</td>\n",
       "      <td>0.000000</td>\n",
       "      <td>0.000000</td>\n",
       "      <td>0.000000</td>\n",
       "      <td>...</td>\n",
       "      <td>-5.807198</td>\n",
       "      <td>-6.834845</td>\n",
       "      <td>6.963572</td>\n",
       "      <td>23.0</td>\n",
       "      <td>18.292026</td>\n",
       "      <td>-1.913133</td>\n",
       "      <td>23.0</td>\n",
       "      <td>3.019776</td>\n",
       "      <td>23.0</td>\n",
       "      <td>1</td>\n",
       "    </tr>\n",
       "    <tr>\n",
       "      <th>2</th>\n",
       "      <td>0.045455</td>\n",
       "      <td>0.0</td>\n",
       "      <td>0.000000</td>\n",
       "      <td>0.000000</td>\n",
       "      <td>0.0</td>\n",
       "      <td>0.000000</td>\n",
       "      <td>0.0</td>\n",
       "      <td>0.000000</td>\n",
       "      <td>0.000000</td>\n",
       "      <td>0.045455</td>\n",
       "      <td>...</td>\n",
       "      <td>-4.118666</td>\n",
       "      <td>-7.183324</td>\n",
       "      <td>7.213733</td>\n",
       "      <td>23.0</td>\n",
       "      <td>18.932211</td>\n",
       "      <td>0.980353</td>\n",
       "      <td>23.0</td>\n",
       "      <td>-1.006995</td>\n",
       "      <td>23.0</td>\n",
       "      <td>1</td>\n",
       "    </tr>\n",
       "    <tr>\n",
       "      <th>3</th>\n",
       "      <td>0.181818</td>\n",
       "      <td>0.0</td>\n",
       "      <td>0.000000</td>\n",
       "      <td>0.045455</td>\n",
       "      <td>0.0</td>\n",
       "      <td>0.000000</td>\n",
       "      <td>0.0</td>\n",
       "      <td>0.000000</td>\n",
       "      <td>0.000000</td>\n",
       "      <td>0.000000</td>\n",
       "      <td>...</td>\n",
       "      <td>-5.383612</td>\n",
       "      <td>-4.679930</td>\n",
       "      <td>3.381193</td>\n",
       "      <td>23.0</td>\n",
       "      <td>22.151127</td>\n",
       "      <td>0.928139</td>\n",
       "      <td>23.0</td>\n",
       "      <td>2.651909</td>\n",
       "      <td>23.0</td>\n",
       "      <td>1</td>\n",
       "    </tr>\n",
       "    <tr>\n",
       "      <th>4</th>\n",
       "      <td>0.000000</td>\n",
       "      <td>0.0</td>\n",
       "      <td>0.090909</td>\n",
       "      <td>0.000000</td>\n",
       "      <td>0.0</td>\n",
       "      <td>0.000000</td>\n",
       "      <td>0.0</td>\n",
       "      <td>0.000000</td>\n",
       "      <td>0.000000</td>\n",
       "      <td>0.000000</td>\n",
       "      <td>...</td>\n",
       "      <td>3.897548</td>\n",
       "      <td>3.808281</td>\n",
       "      <td>6.157220</td>\n",
       "      <td>23.0</td>\n",
       "      <td>4.801374</td>\n",
       "      <td>3.155223</td>\n",
       "      <td>23.0</td>\n",
       "      <td>17.095738</td>\n",
       "      <td>23.0</td>\n",
       "      <td>1</td>\n",
       "    </tr>\n",
       "    <tr>\n",
       "      <th>...</th>\n",
       "      <td>...</td>\n",
       "      <td>...</td>\n",
       "      <td>...</td>\n",
       "      <td>...</td>\n",
       "      <td>...</td>\n",
       "      <td>...</td>\n",
       "      <td>...</td>\n",
       "      <td>...</td>\n",
       "      <td>...</td>\n",
       "      <td>...</td>\n",
       "      <td>...</td>\n",
       "      <td>...</td>\n",
       "      <td>...</td>\n",
       "      <td>...</td>\n",
       "      <td>...</td>\n",
       "      <td>...</td>\n",
       "      <td>...</td>\n",
       "      <td>...</td>\n",
       "      <td>...</td>\n",
       "      <td>...</td>\n",
       "      <td>...</td>\n",
       "    </tr>\n",
       "    <tr>\n",
       "      <th>1426</th>\n",
       "      <td>0.000000</td>\n",
       "      <td>0.0</td>\n",
       "      <td>0.000000</td>\n",
       "      <td>0.000000</td>\n",
       "      <td>0.0</td>\n",
       "      <td>0.045455</td>\n",
       "      <td>0.0</td>\n",
       "      <td>0.000000</td>\n",
       "      <td>0.000000</td>\n",
       "      <td>0.045455</td>\n",
       "      <td>...</td>\n",
       "      <td>-4.551768</td>\n",
       "      <td>-5.419977</td>\n",
       "      <td>4.387204</td>\n",
       "      <td>23.0</td>\n",
       "      <td>19.840664</td>\n",
       "      <td>0.564449</td>\n",
       "      <td>23.0</td>\n",
       "      <td>4.773609</td>\n",
       "      <td>23.0</td>\n",
       "      <td>0</td>\n",
       "    </tr>\n",
       "    <tr>\n",
       "      <th>1427</th>\n",
       "      <td>0.000000</td>\n",
       "      <td>0.0</td>\n",
       "      <td>0.000000</td>\n",
       "      <td>0.000000</td>\n",
       "      <td>0.0</td>\n",
       "      <td>0.000000</td>\n",
       "      <td>0.0</td>\n",
       "      <td>0.000000</td>\n",
       "      <td>0.000000</td>\n",
       "      <td>0.000000</td>\n",
       "      <td>...</td>\n",
       "      <td>-2.177124</td>\n",
       "      <td>-4.379212</td>\n",
       "      <td>5.790989</td>\n",
       "      <td>23.0</td>\n",
       "      <td>19.124278</td>\n",
       "      <td>3.764309</td>\n",
       "      <td>23.0</td>\n",
       "      <td>5.336446</td>\n",
       "      <td>23.0</td>\n",
       "      <td>0</td>\n",
       "    </tr>\n",
       "    <tr>\n",
       "      <th>1428</th>\n",
       "      <td>0.000000</td>\n",
       "      <td>0.0</td>\n",
       "      <td>0.000000</td>\n",
       "      <td>0.000000</td>\n",
       "      <td>0.0</td>\n",
       "      <td>0.000000</td>\n",
       "      <td>0.0</td>\n",
       "      <td>0.000000</td>\n",
       "      <td>0.000000</td>\n",
       "      <td>0.000000</td>\n",
       "      <td>...</td>\n",
       "      <td>-9.932696</td>\n",
       "      <td>-9.411806</td>\n",
       "      <td>5.920727</td>\n",
       "      <td>23.0</td>\n",
       "      <td>21.076160</td>\n",
       "      <td>1.299139</td>\n",
       "      <td>23.0</td>\n",
       "      <td>0.180160</td>\n",
       "      <td>23.0</td>\n",
       "      <td>0</td>\n",
       "    </tr>\n",
       "    <tr>\n",
       "      <th>1429</th>\n",
       "      <td>0.136364</td>\n",
       "      <td>0.0</td>\n",
       "      <td>0.045455</td>\n",
       "      <td>0.000000</td>\n",
       "      <td>0.0</td>\n",
       "      <td>0.000000</td>\n",
       "      <td>0.0</td>\n",
       "      <td>0.000000</td>\n",
       "      <td>0.090909</td>\n",
       "      <td>0.000000</td>\n",
       "      <td>...</td>\n",
       "      <td>-12.260152</td>\n",
       "      <td>-9.139503</td>\n",
       "      <td>4.609453</td>\n",
       "      <td>23.0</td>\n",
       "      <td>21.158522</td>\n",
       "      <td>-0.487384</td>\n",
       "      <td>23.0</td>\n",
       "      <td>2.792850</td>\n",
       "      <td>23.0</td>\n",
       "      <td>0</td>\n",
       "    </tr>\n",
       "    <tr>\n",
       "      <th>1430</th>\n",
       "      <td>0.000000</td>\n",
       "      <td>0.0</td>\n",
       "      <td>0.000000</td>\n",
       "      <td>0.000000</td>\n",
       "      <td>0.0</td>\n",
       "      <td>0.000000</td>\n",
       "      <td>0.0</td>\n",
       "      <td>0.000000</td>\n",
       "      <td>0.000000</td>\n",
       "      <td>0.045455</td>\n",
       "      <td>...</td>\n",
       "      <td>-8.109059</td>\n",
       "      <td>-9.469689</td>\n",
       "      <td>3.830703</td>\n",
       "      <td>23.0</td>\n",
       "      <td>20.694913</td>\n",
       "      <td>1.045602</td>\n",
       "      <td>23.0</td>\n",
       "      <td>-2.322268</td>\n",
       "      <td>23.0</td>\n",
       "      <td>0</td>\n",
       "    </tr>\n",
       "  </tbody>\n",
       "</table>\n",
       "<p>1598 rows × 14824 columns</p>\n",
       "</div>"
      ],
      "text/plain": [
       "       AA.gap0  AC.gap0   AD.gap0   AE.gap0  AF.gap0   AG.gap0  AH.gap0  \\\n",
       "0     0.136364      0.0  0.045455  0.000000      0.0  0.000000      0.0   \n",
       "1     0.090909      0.0  0.090909  0.000000      0.0  0.000000      0.0   \n",
       "2     0.045455      0.0  0.000000  0.000000      0.0  0.000000      0.0   \n",
       "3     0.181818      0.0  0.000000  0.045455      0.0  0.000000      0.0   \n",
       "4     0.000000      0.0  0.090909  0.000000      0.0  0.000000      0.0   \n",
       "...        ...      ...       ...       ...      ...       ...      ...   \n",
       "1426  0.000000      0.0  0.000000  0.000000      0.0  0.045455      0.0   \n",
       "1427  0.000000      0.0  0.000000  0.000000      0.0  0.000000      0.0   \n",
       "1428  0.000000      0.0  0.000000  0.000000      0.0  0.000000      0.0   \n",
       "1429  0.136364      0.0  0.045455  0.000000      0.0  0.000000      0.0   \n",
       "1430  0.000000      0.0  0.000000  0.000000      0.0  0.000000      0.0   \n",
       "\n",
       "       AI.gap0   AK.gap0   AL.gap0  ...        201       202       203   204  \\\n",
       "0     0.045455  0.000000  0.000000  ...   6.337180  6.845856  2.406454  23.0   \n",
       "1     0.000000  0.000000  0.000000  ...  -5.807198 -6.834845  6.963572  23.0   \n",
       "2     0.000000  0.000000  0.045455  ...  -4.118666 -7.183324  7.213733  23.0   \n",
       "3     0.000000  0.000000  0.000000  ...  -5.383612 -4.679930  3.381193  23.0   \n",
       "4     0.000000  0.000000  0.000000  ...   3.897548  3.808281  6.157220  23.0   \n",
       "...        ...       ...       ...  ...        ...       ...       ...   ...   \n",
       "1426  0.000000  0.000000  0.045455  ...  -4.551768 -5.419977  4.387204  23.0   \n",
       "1427  0.000000  0.000000  0.000000  ...  -2.177124 -4.379212  5.790989  23.0   \n",
       "1428  0.000000  0.000000  0.000000  ...  -9.932696 -9.411806  5.920727  23.0   \n",
       "1429  0.000000  0.090909  0.000000  ... -12.260152 -9.139503  4.609453  23.0   \n",
       "1430  0.000000  0.000000  0.045455  ...  -8.109059 -9.469689  3.830703  23.0   \n",
       "\n",
       "            205        206   207        208   209  label  \n",
       "0     14.116268  10.768108  23.0  12.221369  23.0      1  \n",
       "1     18.292026  -1.913133  23.0   3.019776  23.0      1  \n",
       "2     18.932211   0.980353  23.0  -1.006995  23.0      1  \n",
       "3     22.151127   0.928139  23.0   2.651909  23.0      1  \n",
       "4      4.801374   3.155223  23.0  17.095738  23.0      1  \n",
       "...         ...        ...   ...        ...   ...    ...  \n",
       "1426  19.840664   0.564449  23.0   4.773609  23.0      0  \n",
       "1427  19.124278   3.764309  23.0   5.336446  23.0      0  \n",
       "1428  21.076160   1.299139  23.0   0.180160  23.0      0  \n",
       "1429  21.158522  -0.487384  23.0   2.792850  23.0      0  \n",
       "1430  20.694913   1.045602  23.0  -2.322268  23.0      0  \n",
       "\n",
       "[1598 rows x 14824 columns]"
      ]
     },
     "execution_count": 357,
     "metadata": {},
     "output_type": "execute_result"
    }
   ],
   "source": [
    "feature_cksaap"
   ]
  },
  {
   "cell_type": "markdown",
   "metadata": {},
   "source": [
    "### Spliting into data and labels"
   ]
  },
  {
   "cell_type": "code",
   "execution_count": 358,
   "metadata": {},
   "outputs": [],
   "source": [
    "label = list(feature_cksaap['label'])"
   ]
  },
  {
   "cell_type": "code",
   "execution_count": 359,
   "metadata": {
    "scrolled": true
   },
   "outputs": [],
   "source": [
    "feature_cksaap_data = feature_cksaap.copy()\n",
    "del feature_cksaap_data['label']"
   ]
  },
  {
   "cell_type": "code",
   "execution_count": 360,
   "metadata": {},
   "outputs": [
    {
     "data": {
      "text/html": [
       "<div>\n",
       "<style scoped>\n",
       "    .dataframe tbody tr th:only-of-type {\n",
       "        vertical-align: middle;\n",
       "    }\n",
       "\n",
       "    .dataframe tbody tr th {\n",
       "        vertical-align: top;\n",
       "    }\n",
       "\n",
       "    .dataframe thead th {\n",
       "        text-align: right;\n",
       "    }\n",
       "</style>\n",
       "<table border=\"1\" class=\"dataframe\">\n",
       "  <thead>\n",
       "    <tr style=\"text-align: right;\">\n",
       "      <th></th>\n",
       "      <th>AA.gap0</th>\n",
       "      <th>AC.gap0</th>\n",
       "      <th>AD.gap0</th>\n",
       "      <th>AE.gap0</th>\n",
       "      <th>AF.gap0</th>\n",
       "      <th>AG.gap0</th>\n",
       "      <th>AH.gap0</th>\n",
       "      <th>AI.gap0</th>\n",
       "      <th>AK.gap0</th>\n",
       "      <th>AL.gap0</th>\n",
       "      <th>...</th>\n",
       "      <th>200</th>\n",
       "      <th>201</th>\n",
       "      <th>202</th>\n",
       "      <th>203</th>\n",
       "      <th>204</th>\n",
       "      <th>205</th>\n",
       "      <th>206</th>\n",
       "      <th>207</th>\n",
       "      <th>208</th>\n",
       "      <th>209</th>\n",
       "    </tr>\n",
       "  </thead>\n",
       "  <tbody>\n",
       "    <tr>\n",
       "      <th>1426</th>\n",
       "      <td>0.000000</td>\n",
       "      <td>0.0</td>\n",
       "      <td>0.000000</td>\n",
       "      <td>0.0</td>\n",
       "      <td>0.0</td>\n",
       "      <td>0.045455</td>\n",
       "      <td>0.0</td>\n",
       "      <td>0.0</td>\n",
       "      <td>0.000000</td>\n",
       "      <td>0.045455</td>\n",
       "      <td>...</td>\n",
       "      <td>23.0</td>\n",
       "      <td>-4.551768</td>\n",
       "      <td>-5.419977</td>\n",
       "      <td>4.387204</td>\n",
       "      <td>23.0</td>\n",
       "      <td>19.840664</td>\n",
       "      <td>0.564449</td>\n",
       "      <td>23.0</td>\n",
       "      <td>4.773609</td>\n",
       "      <td>23.0</td>\n",
       "    </tr>\n",
       "    <tr>\n",
       "      <th>1427</th>\n",
       "      <td>0.000000</td>\n",
       "      <td>0.0</td>\n",
       "      <td>0.000000</td>\n",
       "      <td>0.0</td>\n",
       "      <td>0.0</td>\n",
       "      <td>0.000000</td>\n",
       "      <td>0.0</td>\n",
       "      <td>0.0</td>\n",
       "      <td>0.000000</td>\n",
       "      <td>0.000000</td>\n",
       "      <td>...</td>\n",
       "      <td>23.0</td>\n",
       "      <td>-2.177124</td>\n",
       "      <td>-4.379212</td>\n",
       "      <td>5.790989</td>\n",
       "      <td>23.0</td>\n",
       "      <td>19.124278</td>\n",
       "      <td>3.764309</td>\n",
       "      <td>23.0</td>\n",
       "      <td>5.336446</td>\n",
       "      <td>23.0</td>\n",
       "    </tr>\n",
       "    <tr>\n",
       "      <th>1428</th>\n",
       "      <td>0.000000</td>\n",
       "      <td>0.0</td>\n",
       "      <td>0.000000</td>\n",
       "      <td>0.0</td>\n",
       "      <td>0.0</td>\n",
       "      <td>0.000000</td>\n",
       "      <td>0.0</td>\n",
       "      <td>0.0</td>\n",
       "      <td>0.000000</td>\n",
       "      <td>0.000000</td>\n",
       "      <td>...</td>\n",
       "      <td>23.0</td>\n",
       "      <td>-9.932696</td>\n",
       "      <td>-9.411806</td>\n",
       "      <td>5.920727</td>\n",
       "      <td>23.0</td>\n",
       "      <td>21.076160</td>\n",
       "      <td>1.299139</td>\n",
       "      <td>23.0</td>\n",
       "      <td>0.180160</td>\n",
       "      <td>23.0</td>\n",
       "    </tr>\n",
       "    <tr>\n",
       "      <th>1429</th>\n",
       "      <td>0.136364</td>\n",
       "      <td>0.0</td>\n",
       "      <td>0.045455</td>\n",
       "      <td>0.0</td>\n",
       "      <td>0.0</td>\n",
       "      <td>0.000000</td>\n",
       "      <td>0.0</td>\n",
       "      <td>0.0</td>\n",
       "      <td>0.090909</td>\n",
       "      <td>0.000000</td>\n",
       "      <td>...</td>\n",
       "      <td>23.0</td>\n",
       "      <td>-12.260152</td>\n",
       "      <td>-9.139503</td>\n",
       "      <td>4.609453</td>\n",
       "      <td>23.0</td>\n",
       "      <td>21.158522</td>\n",
       "      <td>-0.487384</td>\n",
       "      <td>23.0</td>\n",
       "      <td>2.792850</td>\n",
       "      <td>23.0</td>\n",
       "    </tr>\n",
       "    <tr>\n",
       "      <th>1430</th>\n",
       "      <td>0.000000</td>\n",
       "      <td>0.0</td>\n",
       "      <td>0.000000</td>\n",
       "      <td>0.0</td>\n",
       "      <td>0.0</td>\n",
       "      <td>0.000000</td>\n",
       "      <td>0.0</td>\n",
       "      <td>0.0</td>\n",
       "      <td>0.000000</td>\n",
       "      <td>0.045455</td>\n",
       "      <td>...</td>\n",
       "      <td>23.0</td>\n",
       "      <td>-8.109059</td>\n",
       "      <td>-9.469689</td>\n",
       "      <td>3.830703</td>\n",
       "      <td>23.0</td>\n",
       "      <td>20.694913</td>\n",
       "      <td>1.045602</td>\n",
       "      <td>23.0</td>\n",
       "      <td>-2.322268</td>\n",
       "      <td>23.0</td>\n",
       "    </tr>\n",
       "  </tbody>\n",
       "</table>\n",
       "<p>5 rows × 14823 columns</p>\n",
       "</div>"
      ],
      "text/plain": [
       "       AA.gap0  AC.gap0   AD.gap0  AE.gap0  AF.gap0   AG.gap0  AH.gap0  \\\n",
       "1426  0.000000      0.0  0.000000      0.0      0.0  0.045455      0.0   \n",
       "1427  0.000000      0.0  0.000000      0.0      0.0  0.000000      0.0   \n",
       "1428  0.000000      0.0  0.000000      0.0      0.0  0.000000      0.0   \n",
       "1429  0.136364      0.0  0.045455      0.0      0.0  0.000000      0.0   \n",
       "1430  0.000000      0.0  0.000000      0.0      0.0  0.000000      0.0   \n",
       "\n",
       "      AI.gap0   AK.gap0   AL.gap0  ...   200        201       202       203  \\\n",
       "1426      0.0  0.000000  0.045455  ...  23.0  -4.551768 -5.419977  4.387204   \n",
       "1427      0.0  0.000000  0.000000  ...  23.0  -2.177124 -4.379212  5.790989   \n",
       "1428      0.0  0.000000  0.000000  ...  23.0  -9.932696 -9.411806  5.920727   \n",
       "1429      0.0  0.090909  0.000000  ...  23.0 -12.260152 -9.139503  4.609453   \n",
       "1430      0.0  0.000000  0.045455  ...  23.0  -8.109059 -9.469689  3.830703   \n",
       "\n",
       "       204        205       206   207       208   209  \n",
       "1426  23.0  19.840664  0.564449  23.0  4.773609  23.0  \n",
       "1427  23.0  19.124278  3.764309  23.0  5.336446  23.0  \n",
       "1428  23.0  21.076160  1.299139  23.0  0.180160  23.0  \n",
       "1429  23.0  21.158522 -0.487384  23.0  2.792850  23.0  \n",
       "1430  23.0  20.694913  1.045602  23.0 -2.322268  23.0  \n",
       "\n",
       "[5 rows x 14823 columns]"
      ]
     },
     "execution_count": 360,
     "metadata": {},
     "output_type": "execute_result"
    }
   ],
   "source": [
    "feature_cksaap_data.tail()"
   ]
  },
  {
   "cell_type": "markdown",
   "metadata": {},
   "source": [
    "# Feature Scaling (optional)"
   ]
  },
  {
   "cell_type": "code",
   "execution_count": 380,
   "metadata": {},
   "outputs": [
    {
     "name": "stdout",
     "output_type": "stream",
     "text": [
      "(1598, 14823)\n"
     ]
    }
   ],
   "source": [
    "scaler = MinMaxScaler()\n",
    "feature_cksaap_data_s = scaler.fit_transform(feature_cksaap_data)\n",
    "print(feature_cksaap_data_s.shape)"
   ]
  },
  {
   "cell_type": "code",
   "execution_count": 382,
   "metadata": {},
   "outputs": [
    {
     "data": {
      "text/plain": [
       "array([[0.5       , 0.        , 0.5       , ..., 0.625     , 0.66410412,\n",
       "        0.625     ],\n",
       "       [0.33333333, 0.        , 1.        , ..., 0.5       , 0.3255591 ,\n",
       "        0.8125    ],\n",
       "       [0.16666667, 0.        , 0.        , ..., 0.5       , 0.17740615,\n",
       "        0.8125    ],\n",
       "       ...,\n",
       "       [0.        , 0.        , 0.        , ..., 0.5625    , 0.22108397,\n",
       "        0.625     ],\n",
       "       [0.5       , 0.        , 0.5       , ..., 0.125     , 0.31721005,\n",
       "        0.625     ],\n",
       "       [0.        , 0.        , 0.        , ..., 0.5625    , 0.12901463,\n",
       "        0.625     ]])"
      ]
     },
     "execution_count": 382,
     "metadata": {},
     "output_type": "execute_result"
    }
   ],
   "source": [
    "feature_cksaap_data_s"
   ]
  },
  {
   "cell_type": "markdown",
   "metadata": {},
   "source": [
    "# Feature Selection "
   ]
  },
  {
   "cell_type": "code",
   "execution_count": 424,
   "metadata": {},
   "outputs": [],
   "source": [
    "X_new = SelectKBest(chi2, k=500).fit_transform(feature_cksaap_data_s, label)"
   ]
  },
  {
   "cell_type": "markdown",
   "metadata": {},
   "source": [
    "### train test split "
   ]
  },
  {
   "cell_type": "code",
   "execution_count": 425,
   "metadata": {},
   "outputs": [],
   "source": [
    "cksaap_train, cksaap_test, label_train, label_test = train_test_split(X_new, label, test_size = 0.4, random_state = 42)"
   ]
  },
  {
   "cell_type": "code",
   "execution_count": 426,
   "metadata": {},
   "outputs": [
    {
     "name": "stdout",
     "output_type": "stream",
     "text": [
      "(958, 500)\n",
      "(640, 500)\n",
      "958\n",
      "640\n"
     ]
    }
   ],
   "source": [
    "print(cksaap_train.shape)\n",
    "print(cksaap_test.shape)\n",
    "print(len(label_train))\n",
    "print(len(label_test))\n"
   ]
  },
  {
   "cell_type": "markdown",
   "metadata": {},
   "source": [
    "# 4.1 Imbalance Dataset Handling"
   ]
  },
  {
   "cell_type": "code",
   "execution_count": 427,
   "metadata": {},
   "outputs": [],
   "source": [
    "#resampling = ClusterCentroids(random_state=42)\n",
    "\n",
    "#resampling = RandomUnderSampler(random_state=42)\n",
    "\n",
    "resampling = SMOTE(random_state=42)\n",
    "\n",
    "cksaap_train_b, label_train_b = resampling.fit_resample(cksaap_train, label_train)\n",
    "cksaap_test_b, label_test_b = resampling.fit_resample(cksaap_test, label_test)"
   ]
  },
  {
   "cell_type": "code",
   "execution_count": 442,
   "metadata": {},
   "outputs": [
    {
     "data": {
      "text/plain": [
       "numpy.ndarray"
      ]
     },
     "execution_count": 442,
     "metadata": {},
     "output_type": "execute_result"
    }
   ],
   "source": [
    "type(cksaap_train_b)"
   ]
  },
  {
   "cell_type": "code",
   "execution_count": 441,
   "metadata": {},
   "outputs": [
    {
     "data": {
      "text/plain": [
       "list"
      ]
     },
     "execution_count": 441,
     "metadata": {},
     "output_type": "execute_result"
    }
   ],
   "source": [
    "type(label_train_b)"
   ]
  },
  {
   "cell_type": "markdown",
   "metadata": {},
   "source": [
    "# 5. Classification "
   ]
  },
  {
   "cell_type": "markdown",
   "metadata": {},
   "source": [
    "## K Fold Cross-Validation"
   ]
  },
  {
   "cell_type": "code",
   "execution_count": 592,
   "metadata": {},
   "outputs": [
    {
     "name": "stderr",
     "output_type": "stream",
     "text": [
      "/Users/smshovan/opt/anaconda3/lib/python3.8/site-packages/sklearn/utils/validation.py:68: FutureWarning: Pass shuffle=True, random_state=42 as keyword args. From version 0.25 passing these as positional arguments will result in an error\n",
      "  warnings.warn(\"Pass {} as keyword args. From version 0.25 \"\n"
     ]
    },
    {
     "name": "stdout",
     "output_type": "stream",
     "text": [
      "Accuracy 0.9539958231813435 0.009128085621463696\n",
      "Sensitivity 0.917450980392157 0.02295143469155216\n",
      "Specificity 0.9905182072829131 0.01826494317379635\n",
      "MCC 0.9110439224815383 0.017428149556181913\n"
     ]
    }
   ],
   "source": [
    "#kfold = KFold(10, True, 42)\n",
    "kfold = StratifiedKFold(10, True, 42)\n",
    "\n",
    "acc = []\n",
    "sn = []\n",
    "sp = []\n",
    "mcc = []\n",
    "model=RandomForestClassifier(n_estimators=10,class_weight= 'balanced')\n",
    "\n",
    "for train, test in kfold.split(cksaap_train_b , y = label_train_b):\n",
    "\n",
    "    model.fit(np.array(cksaap_train_b)[train], np.array(label_train_b)[train])\n",
    "    label_pred = model.predict(np.array(cksaap_train_b)[test])\n",
    "    label_pred_proba = model.predict_proba(np.array(cksaap_train_b)[test])\n",
    "    \n",
    "    TN, FP, FN, TP = confusion_matrix(np.array(label_train_b)[test],label_pred,labels=[0,1]).ravel()\n",
    "    accuracy=(TP + TN)/(TP+FP+TN+FN)\n",
    "    Sensitivity = TP/(TP+FN)\n",
    "    Specificity = TN/(FP+TN)\n",
    "    MCC = ((TP*TN)-(FN*FP))/(math.sqrt((TP+FN)*(TN+FP)*(TP+FP)*(TN+FN)))\n",
    "    \n",
    "    acc.append(accuracy)\n",
    "    sn.append(Sensitivity)\n",
    "    sp.append(Specificity)\n",
    "    mcc.append(MCC)\n",
    "print(\"Accuracy \" + str(mean(acc)) +\" \" + str(np.std(acc)) )\n",
    "print(\"Sensitivity \" + str(mean(sn)) +\" \" + str(np.std(sn)) )\n",
    "print(\"Specificity \" + str(mean(sp)) +\" \" + str(np.std(sp)) )\n",
    "print(\"MCC \" + str(mean(mcc)) +\" \" + str(np.std(mcc)) )"
   ]
  },
  {
   "cell_type": "code",
   "execution_count": 593,
   "metadata": {},
   "outputs": [],
   "source": [
    "# Support Vector Machine\n",
    "#model = SVC(C = 512 ,kernel='rbf', gamma= .000010, probability=True)\n",
    "\n",
    "# XGB\n",
    "#model = XGBClassifier(class_weight= 'balanced')\n",
    "\n",
    "#lightGBM\n",
    "#model = LGBMClassifier( class_weight= 'balanced')\n",
    "\n",
    "#random forest\n",
    "model=RandomForestClassifier(n_estimators=100,class_weight= 'balanced')\n",
    "\n",
    "#model = ExtraTreesClassifier(class_weight= 'balanced')"
   ]
  },
  {
   "cell_type": "code",
   "execution_count": 594,
   "metadata": {},
   "outputs": [],
   "source": [
    "model.fit(cksaap_train_b, label_train_b)\n",
    "label_pred = model.predict(cksaap_test_b)\n",
    "\n",
    "label_pred_proba = model.predict_proba(cksaap_test_b)\n"
   ]
  },
  {
   "cell_type": "markdown",
   "metadata": {},
   "source": [
    "# 6. Performance Evaluation"
   ]
  },
  {
   "cell_type": "code",
   "execution_count": 595,
   "metadata": {},
   "outputs": [
    {
     "name": "stdout",
     "output_type": "stream",
     "text": [
      "442     1\n",
      "141     582\n",
      "\n",
      "Accuracy :  0.8782161234991424\n",
      "Sensitivity :  0.758147512864494\n",
      "Specificity :  0.9982847341337907\n",
      "MCC :  0.7792334330714275\n"
     ]
    }
   ],
   "source": [
    "TN, FP, FN, TP = confusion_matrix(label_test_b,label_pred,labels=[0,1]).ravel()\n",
    "\n",
    "\n",
    "print(str(TP) +\"     \"+  str(FP))\n",
    "print(str(FN) + \"     \"+  str(TN) +'\\n')\n",
    "\n",
    "accuracy=(TP + TN)/(TP+FP+TN+FN)\n",
    "Sensitivity = TP/(TP+FN)\n",
    "Specificity = TN/(FP+TN)\n",
    "MCC = ((TP*TN)-(FN*FP))/(math.sqrt((TP+FN)*(TN+FP)*(TP+FP)*(TN+FN)))\n",
    "\n",
    "print ('Accuracy : ', accuracy)\n",
    "print('Sensitivity : ', Sensitivity )\n",
    "print('Specificity : ', Specificity)\n",
    "print('MCC : ', MCC)"
   ]
  },
  {
   "cell_type": "markdown",
   "metadata": {},
   "source": [
    "## ROC Curve and AUC"
   ]
  },
  {
   "cell_type": "markdown",
   "metadata": {},
   "source": [
    "## For testing"
   ]
  },
  {
   "cell_type": "code",
   "execution_count": 590,
   "metadata": {},
   "outputs": [],
   "source": [
    "ns_fpr, ns_tpr , th = roc_curve(label_test_b, label_pred_proba[:,1])\n",
    "auc = roc_auc_score(label_test_b, label_pred_proba[:,1])"
   ]
  },
  {
   "cell_type": "code",
   "execution_count": 596,
   "metadata": {},
   "outputs": [],
   "source": [
    "ns_fpr_2, ns_tpr_2 , th_2 = roc_curve(label_test_b, label_pred_proba[:,1])\n",
    "auc_2 = roc_auc_score(label_test_b, label_pred_proba[:,1])"
   ]
  },
  {
   "cell_type": "code",
   "execution_count": 541,
   "metadata": {},
   "outputs": [],
   "source": [
    "ns_fpr_3, ns_tpr_3 , th_3 = roc_curve(label_test_b, label_pred_proba[:,1])\n",
    "auc_3 = roc_auc_score(label_test_b, label_pred_proba[:,1])\n",
    "\n"
   ]
  },
  {
   "cell_type": "code",
   "execution_count": 597,
   "metadata": {},
   "outputs": [
    {
     "data": {
      "text/plain": [
       "Text(0.5, 1.0, 'Testing ROC')"
      ]
     },
     "execution_count": 597,
     "metadata": {},
     "output_type": "execute_result"
    },
    {
     "data": {
      "image/png": "[encoded data removed]",
      "text/plain": [
       "<Figure size 432x288 with 1 Axes>"
      ]
     },
     "metadata": {
      "needs_background": "light"
     },
     "output_type": "display_data"
    }
   ],
   "source": [
    "pyplot.plot(ns_fpr, ns_tpr, marker='', linestyle='-',label='LightGBM AUC: '+\"{:.2f}\".format(auc))\n",
    "pyplot.plot(ns_fpr_2, ns_tpr_2, marker='', linestyle='-',label='Random Forest AUC: '+\"{:.2f}\".format(auc_2))\n",
    "pyplot.plot(ns_fpr_3, ns_tpr_3, marker='', linestyle='-',label='SVM AUC: '+\"{:.2f}\".format(auc_3))\n",
    "plt.plot([0, 1], [0, 1], linestyle='--', lw=2, color='r', label='Random guess')\n",
    "plt.legend(loc=4)\n",
    "plt.xlabel('False Positive Rate')\n",
    "plt.ylabel('True Positive Rate')\n",
    "plt.title(\"Testing ROC\")\n",
    "#plt.savefig('test_ROC.png', dpi = 300)"
   ]
  },
  {
   "cell_type": "code",
   "execution_count": 510,
   "metadata": {},
   "outputs": [
    {
     "data": {
      "text/plain": [
       "'/Users/smshovan/ncbi-blast-2.10.0+/pssms/neg_pssms'"
      ]
     },
     "execution_count": 510,
     "metadata": {},
     "output_type": "execute_result"
    }
   ],
   "source": [
    "pwd"
   ]
  },
  {
   "cell_type": "code",
   "execution_count": null,
   "metadata": {},
   "outputs": [],
   "source": []
  }
 ],
 "metadata": {
  "kernelspec": {
   "display_name": "Python 3",
   "language": "python",
   "name": "python3"
  },
  "language_info": {
   "codemirror_mode": {
    "name": "ipython",
    "version": 3
   },
   "file_extension": ".py",
   "mimetype": "text/x-python",
   "name": "python",
   "nbconvert_exporter": "python",
   "pygments_lexer": "ipython3",
   "version": "3.8.3"
  }
 },
 "nbformat": 4,
 "nbformat_minor": 4
}
