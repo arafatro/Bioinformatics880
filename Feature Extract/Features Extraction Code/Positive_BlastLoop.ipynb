{
 "cells": [
  {
   "cell_type": "code",
   "execution_count": 0,
   "metadata": {
    "colab": {
     "base_uri": "https://localhost:8080/",
     "height": 55
    },
    "colab_type": "code",
    "executionInfo": {
     "elapsed": 1200,
     "status": "ok",
     "timestamp": 1571055397367,
     "user": {
      "displayName": "Wakil Ahmad",
      "photoUrl": "https://lh3.googleusercontent.com/a-/AAuE7mAw_HqHci7_-T2Qv4OjVm6R_0PqEIWkQUk27e8aNw=s64",
      "userId": "03146222634290476916"
     },
     "user_tz": -360
    },
    "id": "UX3-5Ik1tLaS",
    "outputId": "05955b8f-4e5e-4ecd-b5a9-0fe33c13c46c"
   },
   "outputs": [
    {
     "name": "stdout",
     "output_type": "stream",
     "text": [
      "Drive already mounted at /content/drive; to attempt to forcibly remount, call drive.mount(\"/content/drive\", force_remount=True).\n"
     ]
    }
   ],
   "source": [
    "from google.colab import drive\n",
    "drive.mount('/content/drive')"
   ]
  },
  {
   "cell_type": "code",
   "execution_count": 0,
   "metadata": {
    "colab": {
     "base_uri": "https://localhost:8080/",
     "height": 35
    },
    "colab_type": "code",
    "executionInfo": {
     "elapsed": 3016,
     "status": "ok",
     "timestamp": 1571055403178,
     "user": {
      "displayName": "Wakil Ahmad",
      "photoUrl": "https://lh3.googleusercontent.com/a-/AAuE7mAw_HqHci7_-T2Qv4OjVm6R_0PqEIWkQUk27e8aNw=s64",
      "userId": "03146222634290476916"
     },
     "user_tz": -360
    },
    "id": "huVedWehHc8I",
    "outputId": "4d418c9e-f479-4c02-d540-a0e754f039f6"
   },
   "outputs": [
    {
     "name": "stdout",
     "output_type": "stream",
     "text": [
      "/bin/bash: ls/content/drive/My Drive/Colab Notebooks/N neg/pssm part 2: No such file or directory\n"
     ]
    }
   ],
   "source": [
    "!ls\"/content/drive/My Drive/Colab Notebooks/N neg/pssm part 2\""
   ]
  },
  {
   "cell_type": "code",
   "execution_count": 0,
   "metadata": {
    "colab": {},
    "colab_type": "code",
    "id": "6iqPwZShHlnR"
   },
   "outputs": [],
   "source": [
    "import numpy as np\n",
    "import pandas as pd\n",
    "import sys\n",
    "import numpy.ma as ma\n",
    "\n",
    "file = '/content/drive/My Drive/Colab Notebooks/N neg/pssm part 2/PSSM.'\n",
    "res_vec = np.zeros((7400,210))\n",
    "for v in range(1, 7401):\n",
    "    num = str(v)\n",
    "    pos = file + num\n",
    "    \n",
    "    positive = []\n",
    "    with open(pos, 'r', encoding=\"utf-8\",errors='ignore') as f:\n",
    "        for line in f:\n",
    "            positive.append(line.split())\n",
    "\n",
    "\n",
    "        \n",
    "    data = positive[2:-6]\n",
    "    #positive[-7]\n",
    "\n",
    "    df = pd.DataFrame(data)\n",
    "    df.head()\n",
    "\n",
    "    df = df.iloc[1:,2:22]\n",
    "\n",
    "    XX = np.asarray(df)\n",
    "    YY = np.ascontiguousarray(XX, dtype=np.int32)\n",
    "\n",
    "    Transpose = YY.transpose()  #transpose pssm matrix [20*L]\n",
    "\n",
    "    M = np.zeros([Transpose.shape[0], Transpose.shape[1]])\n",
    "\n",
    "    for i in range(Transpose.shape[0]):\n",
    "        for j in range (Transpose.shape[1]):\n",
    "            M[i, j] = (Transpose[i,j] - np.mean(Transpose[i, :])) / np.std(Transpose[i, :])\n",
    "\n",
    "    transpose_M = M.transpose()\n",
    "\n",
    "\n",
    "    result = np.dot(M, transpose_M)\n",
    "\n",
    "\n",
    "\n",
    "    lower_tril = np.tril(result)\n",
    "\n",
    "    il1 = np.tril_indices(20)\n",
    "    remove_upper_value = lower_tril[il1]\n",
    "\n",
    "\n",
    "    Vector = np.ravel(remove_upper_value)\n",
    "    \n",
    "    \n",
    "    \n",
    "    array_vec = np.array(Vector)\n",
    "    res_vec[v-1] = array_vec\n",
    "    \n",
    "    \n",
    "    \n",
    "    np.savetxt('MalonylationNeg3.csv', res_vec, delimiter=',', fmt='%.18e')"
   ]
  },
  {
   "cell_type": "code",
   "execution_count": 0,
   "metadata": {
    "colab": {
     "base_uri": "https://localhost:8080/"
    },
    "colab_type": "code",
    "executionInfo": {
     "elapsed": 11335061,
     "status": "ok",
     "timestamp": 1571066760171,
     "user": {
      "displayName": "Wakil Ahmad",
      "photoUrl": "https://lh3.googleusercontent.com/a-/AAuE7mAw_HqHci7_-T2Qv4OjVm6R_0PqEIWkQUk27e8aNw=s64",
      "userId": "03146222634290476916"
     },
     "user_tz": -360
    },
    "id": "pjHaHjW_JkUe",
    "outputId": "cab3a298-2945-443a-e628-b2115ce6a0ab"
   },
   "outputs": [
    {
     "name": "stdout",
     "output_type": "stream",
     "text": [
      "process complete...\n"
     ]
    }
   ],
   "source": [
    "print('process complete...')"
   ]
  }
 ],
 "metadata": {
  "accelerator": "GPU",
  "colab": {
   "collapsed_sections": [],
   "name": "Positive_BlastLoop.ipynb",
   "provenance": []
  },
  "kernelspec": {
   "display_name": "Python 3",
   "language": "python",
   "name": "python3"
  },
  "language_info": {
   "codemirror_mode": {
    "name": "ipython",
    "version": 3
   },
   "file_extension": ".py",
   "mimetype": "text/x-python",
   "name": "python",
   "nbconvert_exporter": "python",
   "pygments_lexer": "ipython3",
   "version": "3.7.6"
  }
 },
 "nbformat": 4,
 "nbformat_minor": 1
}
