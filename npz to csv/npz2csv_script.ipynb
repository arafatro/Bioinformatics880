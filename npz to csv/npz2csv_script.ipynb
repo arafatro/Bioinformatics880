{
 "cells": [
  {
   "cell_type": "code",
   "execution_count": 5,
   "id": "e50233a9",
   "metadata": {},
   "outputs": [],
   "source": [
    "import numpy as np\n",
    "import pickle\n",
    "#data = np.load(knn_features_007_K-375.npz)\n",
    "npzfile = np.load('knn_features_007_K-375.npz', allow_pickle=True)\n",
    "for key, value in npzfile.items():\n",
    "    np.savetxt(\"somepath\" + key + \".csv\", value)"
   ]
  },
  {
   "cell_type": "code",
   "execution_count": null,
   "id": "e3aea3b1",
   "metadata": {},
   "outputs": [],
   "source": []
  }
 ],
 "metadata": {
  "kernelspec": {
   "display_name": "Python 3",
   "language": "python",
   "name": "python3"
  },
  "language_info": {
   "codemirror_mode": {
    "name": "ipython",
    "version": 3
   },
   "file_extension": ".py",
   "mimetype": "text/x-python",
   "name": "python",
   "nbconvert_exporter": "python",
   "pygments_lexer": "ipython3",
   "version": "3.7.6"
  }
 },
 "nbformat": 4,
 "nbformat_minor": 5
}
